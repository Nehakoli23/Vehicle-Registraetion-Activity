{
 "cells": [
  {
   "cell_type": "code",
   "execution_count": 128,
   "id": "7115077b",
   "metadata": {},
   "outputs": [],
   "source": [
    "#Import Libraries\n",
    "import pandas as pd\n",
    "import numpy as np\n",
    "import re\n",
    "import matplotlib.pyplot as plt\n",
    "import seaborn as sns"
   ]
  },
  {
   "cell_type": "code",
   "execution_count": 129,
   "id": "3ad0b323",
   "metadata": {},
   "outputs": [],
   "source": [
    "data=pd.read_csv(\"Electric_Vehicle_Title_and_Registration_Activity.csv\")"
   ]
  },
  {
   "cell_type": "code",
   "execution_count": 130,
   "id": "77f916ad",
   "metadata": {},
   "outputs": [
    {
     "data": {
      "text/html": [
       "<div>\n",
       "<style scoped>\n",
       "    .dataframe tbody tr th:only-of-type {\n",
       "        vertical-align: middle;\n",
       "    }\n",
       "\n",
       "    .dataframe tbody tr th {\n",
       "        vertical-align: top;\n",
       "    }\n",
       "\n",
       "    .dataframe thead th {\n",
       "        text-align: right;\n",
       "    }\n",
       "</style>\n",
       "<table border=\"1\" class=\"dataframe\">\n",
       "  <thead>\n",
       "    <tr style=\"text-align: right;\">\n",
       "      <th></th>\n",
       "      <th>Clean Alternative Fuel Vehicle Type</th>\n",
       "      <th>VIN (1-10)</th>\n",
       "      <th>DOL Vehicle ID</th>\n",
       "      <th>Model Year</th>\n",
       "      <th>Make</th>\n",
       "      <th>Model</th>\n",
       "      <th>Vehicle Primary Use</th>\n",
       "      <th>Electric Range</th>\n",
       "      <th>Odometer Reading</th>\n",
       "      <th>Odometer Code</th>\n",
       "      <th>...</th>\n",
       "      <th>State of Residence</th>\n",
       "      <th>Postal Code</th>\n",
       "      <th>Meets 2019 HB 2042 Sale Price/Value Requirement</th>\n",
       "      <th>2019 HB 2042: Sale Price/Value Requirement</th>\n",
       "      <th>Electric Vehicle Fee Paid</th>\n",
       "      <th>Transportation Electrification Fee Paid</th>\n",
       "      <th>Hybrid Vehicle Electrification Fee Paid</th>\n",
       "      <th>2020 Census Tract</th>\n",
       "      <th>Legislative District</th>\n",
       "      <th>Electric Utility</th>\n",
       "    </tr>\n",
       "  </thead>\n",
       "  <tbody>\n",
       "    <tr>\n",
       "      <th>0</th>\n",
       "      <td>Plug-in Hybrid Electric Vehicle (PHEV)</td>\n",
       "      <td>3MW5P9J00M</td>\n",
       "      <td>175488981</td>\n",
       "      <td>2021</td>\n",
       "      <td>BMW</td>\n",
       "      <td>330e</td>\n",
       "      <td>Passenger</td>\n",
       "      <td>20.0</td>\n",
       "      <td>10</td>\n",
       "      <td>Actual Mileage</td>\n",
       "      <td>...</td>\n",
       "      <td>WA</td>\n",
       "      <td>98125.0</td>\n",
       "      <td>False</td>\n",
       "      <td>The sale price is too high</td>\n",
       "      <td>Not Applicable</td>\n",
       "      <td>Not Applicable</td>\n",
       "      <td>Not Applicable</td>\n",
       "      <td>5.303300e+10</td>\n",
       "      <td>46.0</td>\n",
       "      <td>CITY OF SEATTLE - (WA)|CITY OF TACOMA - (WA)</td>\n",
       "    </tr>\n",
       "    <tr>\n",
       "      <th>1</th>\n",
       "      <td>Battery Electric Vehicle (BEV)</td>\n",
       "      <td>1G1FY6S07L</td>\n",
       "      <td>137066513</td>\n",
       "      <td>2020</td>\n",
       "      <td>CHEVROLET</td>\n",
       "      <td>Bolt EV</td>\n",
       "      <td>Passenger</td>\n",
       "      <td>259.0</td>\n",
       "      <td>10</td>\n",
       "      <td>Actual Mileage</td>\n",
       "      <td>...</td>\n",
       "      <td>WA</td>\n",
       "      <td>98146.0</td>\n",
       "      <td>True</td>\n",
       "      <td>Sale price/value requirement is met</td>\n",
       "      <td>Not Applicable</td>\n",
       "      <td>Not Applicable</td>\n",
       "      <td>Not Applicable</td>\n",
       "      <td>5.303301e+10</td>\n",
       "      <td>34.0</td>\n",
       "      <td>CITY OF SEATTLE - (WA)|CITY OF TACOMA - (WA)</td>\n",
       "    </tr>\n",
       "    <tr>\n",
       "      <th>2</th>\n",
       "      <td>Plug-in Hybrid Electric Vehicle (PHEV)</td>\n",
       "      <td>JTDKARFP0H</td>\n",
       "      <td>115210994</td>\n",
       "      <td>2017</td>\n",
       "      <td>TOYOTA</td>\n",
       "      <td>Prius Prime</td>\n",
       "      <td>Passenger</td>\n",
       "      <td>25.0</td>\n",
       "      <td>225</td>\n",
       "      <td>Actual Mileage</td>\n",
       "      <td>...</td>\n",
       "      <td>WA</td>\n",
       "      <td>98146.0</td>\n",
       "      <td>True</td>\n",
       "      <td>Sale price/value requirement is met</td>\n",
       "      <td>Not Applicable</td>\n",
       "      <td>Not Applicable</td>\n",
       "      <td>Not Applicable</td>\n",
       "      <td>5.303301e+10</td>\n",
       "      <td>34.0</td>\n",
       "      <td>CITY OF SEATTLE - (WA)|CITY OF TACOMA - (WA)</td>\n",
       "    </tr>\n",
       "    <tr>\n",
       "      <th>3</th>\n",
       "      <td>Battery Electric Vehicle (BEV)</td>\n",
       "      <td>7SAYGAEE5N</td>\n",
       "      <td>220970333</td>\n",
       "      <td>2022</td>\n",
       "      <td>TESLA</td>\n",
       "      <td>Model Y</td>\n",
       "      <td>Passenger</td>\n",
       "      <td>0.0</td>\n",
       "      <td>15</td>\n",
       "      <td>Actual Mileage</td>\n",
       "      <td>...</td>\n",
       "      <td>WA</td>\n",
       "      <td>98075.0</td>\n",
       "      <td>False</td>\n",
       "      <td>The sale price is too high</td>\n",
       "      <td>Not Applicable</td>\n",
       "      <td>Not Applicable</td>\n",
       "      <td>Not Applicable</td>\n",
       "      <td>5.303303e+10</td>\n",
       "      <td>41.0</td>\n",
       "      <td>PUGET SOUND ENERGY INC||CITY OF TACOMA - (WA)</td>\n",
       "    </tr>\n",
       "    <tr>\n",
       "      <th>4</th>\n",
       "      <td>Battery Electric Vehicle (BEV)</td>\n",
       "      <td>7SAYGDEE5N</td>\n",
       "      <td>192470470</td>\n",
       "      <td>2022</td>\n",
       "      <td>TESLA</td>\n",
       "      <td>Model Y</td>\n",
       "      <td>Passenger</td>\n",
       "      <td>0.0</td>\n",
       "      <td>15</td>\n",
       "      <td>Actual Mileage</td>\n",
       "      <td>...</td>\n",
       "      <td>WA</td>\n",
       "      <td>98033.0</td>\n",
       "      <td>False</td>\n",
       "      <td>The sale price is too high</td>\n",
       "      <td>Not Applicable</td>\n",
       "      <td>Not Applicable</td>\n",
       "      <td>Not Applicable</td>\n",
       "      <td>5.303302e+10</td>\n",
       "      <td>48.0</td>\n",
       "      <td>PUGET SOUND ENERGY INC||CITY OF TACOMA - (WA)</td>\n",
       "    </tr>\n",
       "  </tbody>\n",
       "</table>\n",
       "<p>5 rows × 29 columns</p>\n",
       "</div>"
      ],
      "text/plain": [
       "      Clean Alternative Fuel Vehicle Type  VIN (1-10)  DOL Vehicle ID  \\\n",
       "0  Plug-in Hybrid Electric Vehicle (PHEV)  3MW5P9J00M       175488981   \n",
       "1          Battery Electric Vehicle (BEV)  1G1FY6S07L       137066513   \n",
       "2  Plug-in Hybrid Electric Vehicle (PHEV)  JTDKARFP0H       115210994   \n",
       "3          Battery Electric Vehicle (BEV)  7SAYGAEE5N       220970333   \n",
       "4          Battery Electric Vehicle (BEV)  7SAYGDEE5N       192470470   \n",
       "\n",
       "   Model Year       Make        Model Vehicle Primary Use  Electric Range  \\\n",
       "0        2021        BMW         330e           Passenger            20.0   \n",
       "1        2020  CHEVROLET      Bolt EV           Passenger           259.0   \n",
       "2        2017     TOYOTA  Prius Prime           Passenger            25.0   \n",
       "3        2022      TESLA      Model Y           Passenger             0.0   \n",
       "4        2022      TESLA      Model Y           Passenger             0.0   \n",
       "\n",
       "   Odometer Reading   Odometer Code  ... State of Residence  Postal Code  \\\n",
       "0                10  Actual Mileage  ...                 WA      98125.0   \n",
       "1                10  Actual Mileage  ...                 WA      98146.0   \n",
       "2               225  Actual Mileage  ...                 WA      98146.0   \n",
       "3                15  Actual Mileage  ...                 WA      98075.0   \n",
       "4                15  Actual Mileage  ...                 WA      98033.0   \n",
       "\n",
       "  Meets 2019 HB 2042 Sale Price/Value Requirement  \\\n",
       "0                                           False   \n",
       "1                                            True   \n",
       "2                                            True   \n",
       "3                                           False   \n",
       "4                                           False   \n",
       "\n",
       "   2019 HB 2042: Sale Price/Value Requirement Electric Vehicle Fee Paid  \\\n",
       "0                  The sale price is too high            Not Applicable   \n",
       "1         Sale price/value requirement is met            Not Applicable   \n",
       "2         Sale price/value requirement is met            Not Applicable   \n",
       "3                  The sale price is too high            Not Applicable   \n",
       "4                  The sale price is too high            Not Applicable   \n",
       "\n",
       "  Transportation Electrification Fee Paid  \\\n",
       "0                          Not Applicable   \n",
       "1                          Not Applicable   \n",
       "2                          Not Applicable   \n",
       "3                          Not Applicable   \n",
       "4                          Not Applicable   \n",
       "\n",
       "   Hybrid Vehicle Electrification Fee Paid 2020 Census Tract  \\\n",
       "0                           Not Applicable      5.303300e+10   \n",
       "1                           Not Applicable      5.303301e+10   \n",
       "2                           Not Applicable      5.303301e+10   \n",
       "3                           Not Applicable      5.303303e+10   \n",
       "4                           Not Applicable      5.303302e+10   \n",
       "\n",
       "  Legislative District                               Electric Utility  \n",
       "0                 46.0   CITY OF SEATTLE - (WA)|CITY OF TACOMA - (WA)  \n",
       "1                 34.0   CITY OF SEATTLE - (WA)|CITY OF TACOMA - (WA)  \n",
       "2                 34.0   CITY OF SEATTLE - (WA)|CITY OF TACOMA - (WA)  \n",
       "3                 41.0  PUGET SOUND ENERGY INC||CITY OF TACOMA - (WA)  \n",
       "4                 48.0  PUGET SOUND ENERGY INC||CITY OF TACOMA - (WA)  \n",
       "\n",
       "[5 rows x 29 columns]"
      ]
     },
     "execution_count": 130,
     "metadata": {},
     "output_type": "execute_result"
    }
   ],
   "source": [
    "data.head()"
   ]
  },
  {
   "cell_type": "code",
   "execution_count": null,
   "id": "aed8ed83",
   "metadata": {},
   "outputs": [],
   "source": []
  },
  {
   "cell_type": "code",
   "execution_count": 131,
   "id": "8b71710c",
   "metadata": {},
   "outputs": [
    {
     "name": "stdout",
     "output_type": "stream",
     "text": [
      "<class 'pandas.core.frame.DataFrame'>\n",
      "RangeIndex: 274289 entries, 0 to 274288\n",
      "Data columns (total 29 columns):\n",
      " #   Column                                           Non-Null Count   Dtype  \n",
      "---  ------                                           --------------   -----  \n",
      " 0   Clean Alternative Fuel Vehicle Type              274289 non-null  object \n",
      " 1   VIN (1-10)                                       274289 non-null  object \n",
      " 2   DOL Vehicle ID                                   274289 non-null  int64  \n",
      " 3   Model Year                                       274289 non-null  int64  \n",
      " 4   Make                                             274289 non-null  object \n",
      " 5   Model                                            274289 non-null  object \n",
      " 6   Vehicle Primary Use                              274289 non-null  object \n",
      " 7   Electric Range                                   274288 non-null  float64\n",
      " 8   Odometer Reading                                 274289 non-null  int64  \n",
      " 9   Odometer Code                                    274289 non-null  object \n",
      " 10  New or Used Vehicle                              274289 non-null  object \n",
      " 11  Sale Price                                       274289 non-null  int64  \n",
      " 12  Sale Date                                        274289 non-null  object \n",
      " 13  Base MSRP                                        274288 non-null  float64\n",
      " 14  Transaction Type                                 274289 non-null  object \n",
      " 15  DOL Transaction Date                             274289 non-null  object \n",
      " 16  Transaction Year                                 274289 non-null  int64  \n",
      " 17  County                                           274285 non-null  object \n",
      " 18  City                                             274271 non-null  object \n",
      " 19  State of Residence                               274288 non-null  object \n",
      " 20  Postal Code                                      274281 non-null  float64\n",
      " 21  Meets 2019 HB 2042 Sale Price/Value Requirement  274289 non-null  bool   \n",
      " 22  2019 HB 2042: Sale Price/Value Requirement       274289 non-null  object \n",
      " 23  Electric Vehicle Fee Paid                        274289 non-null  object \n",
      " 24  Transportation Electrification Fee Paid          223842 non-null  object \n",
      " 25  Hybrid Vehicle Electrification Fee Paid          223842 non-null  object \n",
      " 26  2020 Census Tract                                274285 non-null  float64\n",
      " 27  Legislative District                             273761 non-null  float64\n",
      " 28  Electric Utility                                 274285 non-null  object \n",
      "dtypes: bool(1), float64(5), int64(5), object(18)\n",
      "memory usage: 58.9+ MB\n"
     ]
    }
   ],
   "source": [
    "data.info()"
   ]
  },
  {
   "cell_type": "code",
   "execution_count": 132,
   "id": "1a5cbf1b",
   "metadata": {},
   "outputs": [],
   "source": [
    "data.drop(['Odometer Code','Legislative District','Electric Utility','Transportation Electrification Fee Paid','Hybrid Vehicle Electrification Fee Paid'],inplace=True,axis=1)"
   ]
  },
  {
   "cell_type": "code",
   "execution_count": 133,
   "id": "0249f806",
   "metadata": {},
   "outputs": [
    {
     "data": {
      "text/plain": [
       "24"
      ]
     },
     "execution_count": 133,
     "metadata": {},
     "output_type": "execute_result"
    }
   ],
   "source": [
    "len(data.columns)"
   ]
  },
  {
   "cell_type": "code",
   "execution_count": 134,
   "id": "f6d8640c",
   "metadata": {},
   "outputs": [
    {
     "data": {
      "text/plain": [
       "(274289, 24)"
      ]
     },
     "execution_count": 134,
     "metadata": {},
     "output_type": "execute_result"
    }
   ],
   "source": [
    "data.shape"
   ]
  },
  {
   "cell_type": "code",
   "execution_count": null,
   "id": "7f828c70",
   "metadata": {},
   "outputs": [],
   "source": []
  },
  {
   "cell_type": "code",
   "execution_count": 135,
   "id": "49251d0c",
   "metadata": {},
   "outputs": [
    {
     "data": {
      "text/plain": [
       "0"
      ]
     },
     "execution_count": 135,
     "metadata": {},
     "output_type": "execute_result"
    }
   ],
   "source": [
    "data.duplicated().sum()"
   ]
  },
  {
   "cell_type": "code",
   "execution_count": 136,
   "id": "d4c3f4aa",
   "metadata": {},
   "outputs": [],
   "source": [
    "drop_duplicates=data.drop_duplicates()\n"
   ]
  },
  {
   "cell_type": "code",
   "execution_count": 137,
   "id": "248a21bb",
   "metadata": {},
   "outputs": [],
   "source": [
    "drop_duplicates.rename(columns = {'Clean Alternative Fuel Vehicle Type':'Vehicle Type','Sale Price':'Sale Price ($)'}, inplace = True) "
   ]
  },
  {
   "cell_type": "code",
   "execution_count": 138,
   "id": "8d32f01f",
   "metadata": {},
   "outputs": [
    {
     "data": {
      "text/plain": [
       "array(['Plug-in Hybrid Electric Vehicle (PHEV)',\n",
       "       'Battery Electric Vehicle (BEV)', 'Hydrogen Powered Vehicle'],\n",
       "      dtype=object)"
      ]
     },
     "execution_count": 138,
     "metadata": {},
     "output_type": "execute_result"
    }
   ],
   "source": [
    "drop_duplicates['Vehicle Type'].unique()"
   ]
  },
  {
   "cell_type": "code",
   "execution_count": 139,
   "id": "370bc9ab",
   "metadata": {
    "scrolled": false
   },
   "outputs": [
    {
     "data": {
      "text/plain": [
       "array(['330e', 'Bolt EV', 'Prius Prime', 'Model Y', 'Model S', 'Niro',\n",
       "       'Leaf', 'Ioniq 5', 'e-tron', 'Model 3', 'Sportage', 'Ioniq',\n",
       "       'Taycan', 'R1T', 'Soul', 'XC90', 'Wrangler', 'Mustang Mach-E',\n",
       "       'e-Golf', 'Model X', 'i3', 'S60', 'ID.4', 'EQB-Class', 'GLC-Class',\n",
       "       'Fusion', 'RAV4 Prime', 'X5', 'Volt', 'Countryman', 'A3', 'F-150',\n",
       "       'Focus', 'R1S', 'Outlander', 'EQE-Class SUV', 'EV6', 'Bolt EUV',\n",
       "       'PS2', 'Kona Electric', 'X3', 'Pacifica', 'Cayenne', 'Solterra',\n",
       "       'RS e-tron GT', 'Q8', '500', 'TONALE', 'Spark', 'Clarity',\n",
       "       'Escape', 'C-Max', 'Q5 e', 'i8', 'C40', 'Prius Plug-in', 'CX-90',\n",
       "       'CT6', 'Roadster', 'Ioniq 6', 'Fortwo Electric Drive',\n",
       "       'Grand Cherokee', 'RAV4', 'Corsair', 'i4', 'Transit', 'iX',\n",
       "       'Optima', 'Crosstrek', 'Q5', 'ARIYA', 'XC40', 'I-PACE',\n",
       "       'e-tron Sportback', 'EQE-Class Sedan', 'ELR', 'Lyriq', 'Sorento',\n",
       "       'Kona', 'EQS-Class SUV', 'Soul EV', 'Hardtop', 'Prius', 'Air',\n",
       "       'EQS-Class Sedan', '740e', '530e', 'XC60', 'Q4', 'RZ 450e',\n",
       "       'Tucson', 'Range Rover Sport', 'Fortwo', 'bZ4X', 'i7', 'Sonata',\n",
       "       'B-Class', 'Panamera', 'Santa Fe', 'i-MiEV', 'EQ Fortwo', 'G80',\n",
       "       'e-tron GT', 'NX', 'Aviator', 'i5', 'GLE-Class', 'Karma', 'V60',\n",
       "       'MX-30', 'Ocean', 'EV9', 'Blazer EV', 'XM', 'A8 e', 'Ranger',\n",
       "       'S90', 'EDV', 'HORNET', 'GV70', 'Range Rover', 'GV60',\n",
       "       'Hummer EV Pickup', '745e', 'A7', 'Silverado EV', 'C-Class',\n",
       "       'S-Class', 'Flying Spur', 'Transit Connect Electric', 'Wheego',\n",
       "       'SQ8', 'Accord', 'City', '918', 'Bentayga', '745Le', 'Caravan',\n",
       "       'Mirai', 'Bubble Buddy', 'S-10 Pickup', 'Spectre'], dtype=object)"
      ]
     },
     "execution_count": 139,
     "metadata": {},
     "output_type": "execute_result"
    }
   ],
   "source": [
    "drop_duplicates['Model'].unique()"
   ]
  },
  {
   "cell_type": "code",
   "execution_count": 140,
   "id": "b1dddc40",
   "metadata": {},
   "outputs": [
    {
     "data": {
      "text/plain": [
       "array([2021, 2020, 2017, 2022, 2015, 2019, 2013, 2023, 2018, 2016, 2011,\n",
       "       2014, 2024, 2012, 2008, 2010, 2000, 1998, 1999, 1993, 2003, 1997],\n",
       "      dtype=int64)"
      ]
     },
     "execution_count": 140,
     "metadata": {},
     "output_type": "execute_result"
    }
   ],
   "source": [
    "drop_duplicates['Model Year'].unique()"
   ]
  },
  {
   "cell_type": "code",
   "execution_count": 141,
   "id": "10f2f917",
   "metadata": {},
   "outputs": [
    {
     "data": {
      "text/plain": [
       "array([ 20., 259.,  25.,   0., 208., 239., 151., 204.,  34.,  84.,  29.,\n",
       "       192.,  93.,  18.,  21., 125., 200., 249.,  72.,  22.,  75.,  10.,\n",
       "       238.,  32.,  73., 150.,  97.,  83., 291., 215., 337.,  26.,  42.,\n",
       "        30.,  35.,  53., 322.,  12.,  16., 107.,  17., 220.,  14., 153.,\n",
       "        76.,  13., 266., 270.,  81.,  87.,  38.,  33.,  82., 265.,  47.,\n",
       "       289., 210.,  19.,   6.,  31., 149.,  68., 103.,  28., 330.,  23.,\n",
       "       308.,  39., 234., 218.,  37., 258., 203., 126., 233., 293., 245.,\n",
       "       170.,  15.,  27.,  58.,  62., 114.,  41., 111., 110.,   8.,  40.,\n",
       "       222.,  24., 100.,  48.,   9., 124.,  56.,  36.,  11.,  nan,  74.,\n",
       "        51.,  89.,  59.,  57.,  80.,  95.])"
      ]
     },
     "execution_count": 141,
     "metadata": {},
     "output_type": "execute_result"
    }
   ],
   "source": [
    "drop_duplicates['Electric Range'].unique()"
   ]
  },
  {
   "cell_type": "code",
   "execution_count": 142,
   "id": "c4661053",
   "metadata": {},
   "outputs": [
    {
     "data": {
      "text/plain": [
       "Electric Range\n",
       "False    274288\n",
       "True          1\n",
       "Name: count, dtype: int64"
      ]
     },
     "execution_count": 142,
     "metadata": {},
     "output_type": "execute_result"
    }
   ],
   "source": [
    "drop_duplicates['Electric Range'].isnull().value_counts()"
   ]
  },
  {
   "cell_type": "code",
   "execution_count": 143,
   "id": "f177d90c",
   "metadata": {},
   "outputs": [
    {
     "data": {
      "text/html": [
       "<div>\n",
       "<style scoped>\n",
       "    .dataframe tbody tr th:only-of-type {\n",
       "        vertical-align: middle;\n",
       "    }\n",
       "\n",
       "    .dataframe tbody tr th {\n",
       "        vertical-align: top;\n",
       "    }\n",
       "\n",
       "    .dataframe thead th {\n",
       "        text-align: right;\n",
       "    }\n",
       "</style>\n",
       "<table border=\"1\" class=\"dataframe\">\n",
       "  <thead>\n",
       "    <tr style=\"text-align: right;\">\n",
       "      <th></th>\n",
       "      <th>Electric Range</th>\n",
       "    </tr>\n",
       "    <tr>\n",
       "      <th>Vehicle Type</th>\n",
       "      <th></th>\n",
       "    </tr>\n",
       "  </thead>\n",
       "  <tbody>\n",
       "    <tr>\n",
       "      <th>Hydrogen Powered Vehicle</th>\n",
       "      <td>0.000000</td>\n",
       "    </tr>\n",
       "    <tr>\n",
       "      <th>Plug-in Hybrid Electric Vehicle (PHEV)</th>\n",
       "      <td>31.479772</td>\n",
       "    </tr>\n",
       "    <tr>\n",
       "      <th>Battery Electric Vehicle (BEV)</th>\n",
       "      <td>86.450328</td>\n",
       "    </tr>\n",
       "  </tbody>\n",
       "</table>\n",
       "</div>"
      ],
      "text/plain": [
       "                                        Electric Range\n",
       "Vehicle Type                                          \n",
       "Hydrogen Powered Vehicle                      0.000000\n",
       "Plug-in Hybrid Electric Vehicle (PHEV)       31.479772\n",
       "Battery Electric Vehicle (BEV)               86.450328"
      ]
     },
     "execution_count": 143,
     "metadata": {},
     "output_type": "execute_result"
    }
   ],
   "source": [
    "drop_duplicates.groupby(\"Vehicle Type\")[['Electric Range']].mean().sort_values(by=\"Electric Range\")"
   ]
  },
  {
   "cell_type": "code",
   "execution_count": 144,
   "id": "b875ce2f",
   "metadata": {},
   "outputs": [
    {
     "data": {
      "text/plain": [
       "Electric Range\n",
       "False    65677\n",
       "True         1\n",
       "Name: count, dtype: int64"
      ]
     },
     "execution_count": 144,
     "metadata": {},
     "output_type": "execute_result"
    }
   ],
   "source": [
    "drop_duplicates[drop_duplicates['Vehicle Type']=='Plug-in Hybrid Electric Vehicle (PHEV)']['Electric Range'].isna().value_counts()"
   ]
  },
  {
   "cell_type": "code",
   "execution_count": 145,
   "id": "25568327",
   "metadata": {},
   "outputs": [],
   "source": [
    "#Fill na\n",
    "range_na=drop_duplicates[drop_duplicates['Vehicle Type']=='Plug-in Hybrid Electric Vehicle (PHEV)']['Electric Range']"
   ]
  },
  {
   "cell_type": "code",
   "execution_count": 146,
   "id": "47e132e7",
   "metadata": {},
   "outputs": [],
   "source": [
    "drop_duplicates['Electric Range']=drop_duplicates['Electric Range'].fillna(range_na.mean())"
   ]
  },
  {
   "cell_type": "code",
   "execution_count": 147,
   "id": "49089bcf",
   "metadata": {},
   "outputs": [
    {
     "data": {
      "text/plain": [
       "Electric Range\n",
       "False    274289\n",
       "Name: count, dtype: int64"
      ]
     },
     "execution_count": 147,
     "metadata": {},
     "output_type": "execute_result"
    }
   ],
   "source": [
    "drop_duplicates['Electric Range'].isna().value_counts()"
   ]
  },
  {
   "cell_type": "code",
   "execution_count": 148,
   "id": "dd53bd4a",
   "metadata": {},
   "outputs": [
    {
     "data": {
      "text/plain": [
       "0          20.0\n",
       "1         259.0\n",
       "2          25.0\n",
       "3           0.0\n",
       "4           0.0\n",
       "          ...  \n",
       "274284      0.0\n",
       "274285      0.0\n",
       "274286      0.0\n",
       "274287     53.0\n",
       "274288      0.0\n",
       "Name: Electric Range, Length: 274289, dtype: float64"
      ]
     },
     "execution_count": 148,
     "metadata": {},
     "output_type": "execute_result"
    }
   ],
   "source": [
    "drop_duplicates['Electric Range']"
   ]
  },
  {
   "cell_type": "code",
   "execution_count": 149,
   "id": "c32eec51",
   "metadata": {},
   "outputs": [
    {
     "data": {
      "text/plain": [
       "Vehicle Type\n",
       "Battery Electric Vehicle (BEV)            208608\n",
       "Plug-in Hybrid Electric Vehicle (PHEV)     65678\n",
       "Hydrogen Powered Vehicle                       3\n",
       "Name: count, dtype: int64"
      ]
     },
     "execution_count": 149,
     "metadata": {},
     "output_type": "execute_result"
    }
   ],
   "source": [
    "drop_duplicates['Vehicle Type'].value_counts()"
   ]
  },
  {
   "cell_type": "code",
   "execution_count": 150,
   "id": "3720873a",
   "metadata": {},
   "outputs": [
    {
     "data": {
      "text/plain": [
       "array([54490, 37415, 35164, ..., 12426, 82886, 61093], dtype=int64)"
      ]
     },
     "execution_count": 150,
     "metadata": {},
     "output_type": "execute_result"
    }
   ],
   "source": [
    "drop_duplicates['Sale Price ($)'].unique()"
   ]
  },
  {
   "cell_type": "code",
   "execution_count": 151,
   "id": "bd53e27f",
   "metadata": {},
   "outputs": [
    {
     "data": {
      "text/plain": [
       "Sale Date\n",
       "False    274289\n",
       "Name: count, dtype: int64"
      ]
     },
     "execution_count": 151,
     "metadata": {},
     "output_type": "execute_result"
    }
   ],
   "source": [
    "drop_duplicates['Sale Date'].isna().value_counts()"
   ]
  },
  {
   "cell_type": "code",
   "execution_count": 152,
   "id": "8259f3c5",
   "metadata": {},
   "outputs": [],
   "source": [
    "drop_duplicates['Sale Date'] = pd.to_datetime(drop_duplicates['Sale Date'])"
   ]
  },
  {
   "cell_type": "code",
   "execution_count": 153,
   "id": "06a2058d",
   "metadata": {},
   "outputs": [
    {
     "data": {
      "text/plain": [
       "0        2021-09-06\n",
       "1        2020-11-27\n",
       "2        2017-10-21\n",
       "3        2022-10-22\n",
       "4        2022-01-27\n",
       "            ...    \n",
       "274284   2023-07-07\n",
       "274285   2023-07-06\n",
       "274286   2023-07-21\n",
       "274287   2023-10-17\n",
       "274288   2023-06-30\n",
       "Name: Sale Date, Length: 274289, dtype: datetime64[ns]"
      ]
     },
     "execution_count": 153,
     "metadata": {},
     "output_type": "execute_result"
    }
   ],
   "source": [
    "drop_duplicates['Sale Date']"
   ]
  },
  {
   "cell_type": "code",
   "execution_count": 154,
   "id": "d529cee7",
   "metadata": {},
   "outputs": [
    {
     "data": {
      "text/plain": [
       "array([2021, 2020, 2017, 2022, 2023, 2019, 2013, 2015, 2016, 2011, 2024,\n",
       "       2014, 2018, 2012, 2010], dtype=int64)"
      ]
     },
     "execution_count": 154,
     "metadata": {},
     "output_type": "execute_result"
    }
   ],
   "source": [
    "drop_duplicates['Transaction Year'].unique()"
   ]
  },
  {
   "cell_type": "code",
   "execution_count": 155,
   "id": "12d73668",
   "metadata": {},
   "outputs": [
    {
     "data": {
      "text/plain": [
       "County\n",
       "False    274285\n",
       "True          4\n",
       "Name: count, dtype: int64"
      ]
     },
     "execution_count": 155,
     "metadata": {},
     "output_type": "execute_result"
    }
   ],
   "source": [
    "drop_duplicates['County'].isna().value_counts()"
   ]
  },
  {
   "cell_type": "code",
   "execution_count": 156,
   "id": "229c6aac",
   "metadata": {},
   "outputs": [],
   "source": [
    "drop_duplicates['County'].fillna(\"No Info\",inplace=True)"
   ]
  },
  {
   "cell_type": "code",
   "execution_count": 157,
   "id": "ad8de531",
   "metadata": {},
   "outputs": [
    {
     "data": {
      "text/plain": [
       "Base MSRP\n",
       "False    274288\n",
       "True          1\n",
       "Name: count, dtype: int64"
      ]
     },
     "execution_count": 157,
     "metadata": {},
     "output_type": "execute_result"
    }
   ],
   "source": [
    "drop_duplicates['Base MSRP'].isna().value_counts()"
   ]
  },
  {
   "cell_type": "code",
   "execution_count": 158,
   "id": "28f2556d",
   "metadata": {},
   "outputs": [],
   "source": [
    "MSRP_NA=drop_duplicates[drop_duplicates['Vehicle Type']=='Plug-in Hybrid Electric Vehicle (PHEV)']['Base MSRP'].isna().value_counts()"
   ]
  },
  {
   "cell_type": "code",
   "execution_count": 159,
   "id": "71a885b1",
   "metadata": {},
   "outputs": [],
   "source": [
    "drop_duplicates['Base MSRP']=drop_duplicates['Base MSRP'].fillna(MSRP_NA.mean())"
   ]
  },
  {
   "cell_type": "code",
   "execution_count": 160,
   "id": "0a22e0f4",
   "metadata": {},
   "outputs": [
    {
     "data": {
      "text/plain": [
       "Base MSRP\n",
       "False    274289\n",
       "Name: count, dtype: int64"
      ]
     },
     "execution_count": 160,
     "metadata": {},
     "output_type": "execute_result"
    }
   ],
   "source": [
    "drop_duplicates['Base MSRP'].isna().value_counts()"
   ]
  },
  {
   "cell_type": "code",
   "execution_count": 161,
   "id": "042ebd11",
   "metadata": {},
   "outputs": [
    {
     "data": {
      "text/plain": [
       "County\n",
       "False    274289\n",
       "Name: count, dtype: int64"
      ]
     },
     "execution_count": 161,
     "metadata": {},
     "output_type": "execute_result"
    }
   ],
   "source": [
    "drop_duplicates['County'].isna().value_counts()"
   ]
  },
  {
   "cell_type": "code",
   "execution_count": 162,
   "id": "1d1d48ca",
   "metadata": {},
   "outputs": [],
   "source": [
    "drop_duplicates['County'].fillna(\"No Info\",inplace=True)"
   ]
  },
  {
   "cell_type": "code",
   "execution_count": 163,
   "id": "04896fd3",
   "metadata": {},
   "outputs": [],
   "source": [
    "drop_duplicates['City'].fillna(\"No Info\",inplace=True)"
   ]
  },
  {
   "cell_type": "code",
   "execution_count": 164,
   "id": "5d4ba171",
   "metadata": {},
   "outputs": [],
   "source": [
    "drop_duplicates['State of Residence'].fillna(\"No Info\",inplace=True)"
   ]
  },
  {
   "cell_type": "code",
   "execution_count": 165,
   "id": "0a0b1eba",
   "metadata": {},
   "outputs": [],
   "source": [
    "drop_duplicates['Postal Code'].fillna(\"No Info\",inplace=True)"
   ]
  },
  {
   "cell_type": "code",
   "execution_count": 166,
   "id": "655c7315",
   "metadata": {},
   "outputs": [
    {
     "data": {
      "text/plain": [
       "array([False,  True])"
      ]
     },
     "execution_count": 166,
     "metadata": {},
     "output_type": "execute_result"
    }
   ],
   "source": [
    "drop_duplicates['Meets 2019 HB 2042 Sale Price/Value Requirement'].unique()\n"
   ]
  },
  {
   "cell_type": "code",
   "execution_count": 167,
   "id": "0c046c14",
   "metadata": {},
   "outputs": [
    {
     "data": {
      "text/plain": [
       "array(['The sale price is too high',\n",
       "       'Sale price/value requirement is met',\n",
       "       'This transaction type is not eligible for the tax exemption',\n",
       "       'The sale price is not available', 'The vehicle value is too high'],\n",
       "      dtype=object)"
      ]
     },
     "execution_count": 167,
     "metadata": {},
     "output_type": "execute_result"
    }
   ],
   "source": [
    "drop_duplicates['2019 HB 2042: Sale Price/Value Requirement'].unique()"
   ]
  },
  {
   "cell_type": "code",
   "execution_count": 168,
   "id": "e7c874ba",
   "metadata": {},
   "outputs": [
    {
     "data": {
      "text/plain": [
       "array(['Not Applicable', 'No', 'Yes'], dtype=object)"
      ]
     },
     "execution_count": 168,
     "metadata": {},
     "output_type": "execute_result"
    }
   ],
   "source": [
    "drop_duplicates['Electric Vehicle Fee Paid'].unique()"
   ]
  },
  {
   "cell_type": "code",
   "execution_count": 169,
   "id": "cff2ed2e",
   "metadata": {},
   "outputs": [
    {
     "data": {
      "text/plain": [
       "array([5.30330022e+10, 5.30330121e+10, 5.30330322e+10, ...,\n",
       "       4.10079513e+10, 4.10670308e+10, 4.01342251e+09])"
      ]
     },
     "execution_count": 169,
     "metadata": {},
     "output_type": "execute_result"
    }
   ],
   "source": [
    "drop_duplicates['2020 Census Tract'].unique()"
   ]
  },
  {
   "cell_type": "code",
   "execution_count": 170,
   "id": "b2f69380",
   "metadata": {},
   "outputs": [
    {
     "data": {
      "text/plain": [
       "2020 Census Tract\n",
       "False    274285\n",
       "True          4\n",
       "Name: count, dtype: int64"
      ]
     },
     "execution_count": 170,
     "metadata": {},
     "output_type": "execute_result"
    }
   ],
   "source": [
    "drop_duplicates['2020 Census Tract'].isna().value_counts()"
   ]
  },
  {
   "cell_type": "code",
   "execution_count": 171,
   "id": "a656013e",
   "metadata": {},
   "outputs": [
    {
     "data": {
      "text/plain": [
       "2020 Census Tract\n",
       "False    208605\n",
       "True          3\n",
       "Name: count, dtype: int64"
      ]
     },
     "execution_count": 171,
     "metadata": {},
     "output_type": "execute_result"
    }
   ],
   "source": [
    "drop_duplicates[drop_duplicates['Vehicle Type']=='Battery Electric Vehicle (BEV)']['2020 Census Tract'].isna().value_counts()"
   ]
  },
  {
   "cell_type": "code",
   "execution_count": 172,
   "id": "e0cbd61e",
   "metadata": {},
   "outputs": [
    {
     "data": {
      "text/plain": [
       "2020 Census Tract\n",
       "False    65677\n",
       "True         1\n",
       "Name: count, dtype: int64"
      ]
     },
     "execution_count": 172,
     "metadata": {},
     "output_type": "execute_result"
    }
   ],
   "source": [
    "drop_duplicates[drop_duplicates['Vehicle Type']=='Plug-in Hybrid Electric Vehicle (PHEV)']['2020 Census Tract'].isna().value_counts()"
   ]
  },
  {
   "cell_type": "code",
   "execution_count": 173,
   "id": "ef555d71",
   "metadata": {},
   "outputs": [
    {
     "data": {
      "text/html": [
       "<div>\n",
       "<style scoped>\n",
       "    .dataframe tbody tr th:only-of-type {\n",
       "        vertical-align: middle;\n",
       "    }\n",
       "\n",
       "    .dataframe tbody tr th {\n",
       "        vertical-align: top;\n",
       "    }\n",
       "\n",
       "    .dataframe thead th {\n",
       "        text-align: right;\n",
       "    }\n",
       "</style>\n",
       "<table border=\"1\" class=\"dataframe\">\n",
       "  <thead>\n",
       "    <tr style=\"text-align: right;\">\n",
       "      <th></th>\n",
       "      <th>2020 Census Tract</th>\n",
       "    </tr>\n",
       "    <tr>\n",
       "      <th>Vehicle Type</th>\n",
       "      <th></th>\n",
       "    </tr>\n",
       "  </thead>\n",
       "  <tbody>\n",
       "    <tr>\n",
       "      <th>Plug-in Hybrid Electric Vehicle (PHEV)</th>\n",
       "      <td>5.296789e+10</td>\n",
       "    </tr>\n",
       "    <tr>\n",
       "      <th>Battery Electric Vehicle (BEV)</th>\n",
       "      <td>5.299837e+10</td>\n",
       "    </tr>\n",
       "    <tr>\n",
       "      <th>Hydrogen Powered Vehicle</th>\n",
       "      <td>5.304639e+10</td>\n",
       "    </tr>\n",
       "  </tbody>\n",
       "</table>\n",
       "</div>"
      ],
      "text/plain": [
       "                                        2020 Census Tract\n",
       "Vehicle Type                                             \n",
       "Plug-in Hybrid Electric Vehicle (PHEV)       5.296789e+10\n",
       "Battery Electric Vehicle (BEV)               5.299837e+10\n",
       "Hydrogen Powered Vehicle                     5.304639e+10"
      ]
     },
     "execution_count": 173,
     "metadata": {},
     "output_type": "execute_result"
    }
   ],
   "source": [
    "drop_duplicates.groupby(\"Vehicle Type\")[['2020 Census Tract']].mean().sort_values(by=\"2020 Census Tract\")"
   ]
  },
  {
   "cell_type": "code",
   "execution_count": 174,
   "id": "8c2b334a",
   "metadata": {},
   "outputs": [],
   "source": [
    "Tract_fill=drop_duplicates[drop_duplicates['Vehicle Type']=='Plug-in Hybrid Electric Vehicle (PHEV)']['2020 Census Tract']"
   ]
  },
  {
   "cell_type": "code",
   "execution_count": 175,
   "id": "0612c817",
   "metadata": {},
   "outputs": [],
   "source": [
    "drop_duplicates['2020 Census Tract']=drop_duplicates['2020 Census Tract'].fillna(Tract_fill.mean())"
   ]
  },
  {
   "cell_type": "code",
   "execution_count": 176,
   "id": "b3041922",
   "metadata": {},
   "outputs": [
    {
     "data": {
      "text/plain": [
       "2020 Census Tract\n",
       "False    274289\n",
       "Name: count, dtype: int64"
      ]
     },
     "execution_count": 176,
     "metadata": {},
     "output_type": "execute_result"
    }
   ],
   "source": [
    "drop_duplicates['2020 Census Tract'].isna().value_counts()"
   ]
  },
  {
   "cell_type": "code",
   "execution_count": null,
   "id": "2dcd605b",
   "metadata": {},
   "outputs": [],
   "source": []
  },
  {
   "cell_type": "code",
   "execution_count": 177,
   "id": "8a593633",
   "metadata": {},
   "outputs": [
    {
     "data": {
      "text/html": [
       "<div>\n",
       "<style scoped>\n",
       "    .dataframe tbody tr th:only-of-type {\n",
       "        vertical-align: middle;\n",
       "    }\n",
       "\n",
       "    .dataframe tbody tr th {\n",
       "        vertical-align: top;\n",
       "    }\n",
       "\n",
       "    .dataframe thead th {\n",
       "        text-align: right;\n",
       "    }\n",
       "</style>\n",
       "<table border=\"1\" class=\"dataframe\">\n",
       "  <thead>\n",
       "    <tr style=\"text-align: right;\">\n",
       "      <th></th>\n",
       "      <th>Vehicle Type</th>\n",
       "      <th>VIN (1-10)</th>\n",
       "      <th>DOL Vehicle ID</th>\n",
       "      <th>Model Year</th>\n",
       "      <th>Make</th>\n",
       "      <th>Model</th>\n",
       "      <th>Vehicle Primary Use</th>\n",
       "      <th>Electric Range</th>\n",
       "      <th>Odometer Reading</th>\n",
       "      <th>New or Used Vehicle</th>\n",
       "      <th>...</th>\n",
       "      <th>DOL Transaction Date</th>\n",
       "      <th>Transaction Year</th>\n",
       "      <th>County</th>\n",
       "      <th>City</th>\n",
       "      <th>State of Residence</th>\n",
       "      <th>Postal Code</th>\n",
       "      <th>Meets 2019 HB 2042 Sale Price/Value Requirement</th>\n",
       "      <th>2019 HB 2042: Sale Price/Value Requirement</th>\n",
       "      <th>Electric Vehicle Fee Paid</th>\n",
       "      <th>2020 Census Tract</th>\n",
       "    </tr>\n",
       "  </thead>\n",
       "  <tbody>\n",
       "    <tr>\n",
       "      <th>0</th>\n",
       "      <td>Plug-in Hybrid Electric Vehicle (PHEV)</td>\n",
       "      <td>3MW5P9J00M</td>\n",
       "      <td>175488981</td>\n",
       "      <td>2021</td>\n",
       "      <td>BMW</td>\n",
       "      <td>330e</td>\n",
       "      <td>Passenger</td>\n",
       "      <td>20.0</td>\n",
       "      <td>10</td>\n",
       "      <td>New</td>\n",
       "      <td>...</td>\n",
       "      <td>October 01 2021</td>\n",
       "      <td>2021</td>\n",
       "      <td>King</td>\n",
       "      <td>SEATTLE</td>\n",
       "      <td>WA</td>\n",
       "      <td>98125.0</td>\n",
       "      <td>False</td>\n",
       "      <td>The sale price is too high</td>\n",
       "      <td>Not Applicable</td>\n",
       "      <td>5.303300e+10</td>\n",
       "    </tr>\n",
       "    <tr>\n",
       "      <th>1</th>\n",
       "      <td>Battery Electric Vehicle (BEV)</td>\n",
       "      <td>1G1FY6S07L</td>\n",
       "      <td>137066513</td>\n",
       "      <td>2020</td>\n",
       "      <td>CHEVROLET</td>\n",
       "      <td>Bolt EV</td>\n",
       "      <td>Passenger</td>\n",
       "      <td>259.0</td>\n",
       "      <td>10</td>\n",
       "      <td>New</td>\n",
       "      <td>...</td>\n",
       "      <td>December 30 2020</td>\n",
       "      <td>2020</td>\n",
       "      <td>King</td>\n",
       "      <td>SEATTLE</td>\n",
       "      <td>WA</td>\n",
       "      <td>98146.0</td>\n",
       "      <td>True</td>\n",
       "      <td>Sale price/value requirement is met</td>\n",
       "      <td>Not Applicable</td>\n",
       "      <td>5.303301e+10</td>\n",
       "    </tr>\n",
       "    <tr>\n",
       "      <th>2</th>\n",
       "      <td>Plug-in Hybrid Electric Vehicle (PHEV)</td>\n",
       "      <td>JTDKARFP0H</td>\n",
       "      <td>115210994</td>\n",
       "      <td>2017</td>\n",
       "      <td>TOYOTA</td>\n",
       "      <td>Prius Prime</td>\n",
       "      <td>Passenger</td>\n",
       "      <td>25.0</td>\n",
       "      <td>225</td>\n",
       "      <td>New</td>\n",
       "      <td>...</td>\n",
       "      <td>November 15 2017</td>\n",
       "      <td>2017</td>\n",
       "      <td>King</td>\n",
       "      <td>SEATTLE</td>\n",
       "      <td>WA</td>\n",
       "      <td>98146.0</td>\n",
       "      <td>True</td>\n",
       "      <td>Sale price/value requirement is met</td>\n",
       "      <td>Not Applicable</td>\n",
       "      <td>5.303301e+10</td>\n",
       "    </tr>\n",
       "    <tr>\n",
       "      <th>3</th>\n",
       "      <td>Battery Electric Vehicle (BEV)</td>\n",
       "      <td>7SAYGAEE5N</td>\n",
       "      <td>220970333</td>\n",
       "      <td>2022</td>\n",
       "      <td>TESLA</td>\n",
       "      <td>Model Y</td>\n",
       "      <td>Passenger</td>\n",
       "      <td>0.0</td>\n",
       "      <td>15</td>\n",
       "      <td>New</td>\n",
       "      <td>...</td>\n",
       "      <td>November 17 2022</td>\n",
       "      <td>2022</td>\n",
       "      <td>King</td>\n",
       "      <td>SAMMAMISH</td>\n",
       "      <td>WA</td>\n",
       "      <td>98075.0</td>\n",
       "      <td>False</td>\n",
       "      <td>The sale price is too high</td>\n",
       "      <td>Not Applicable</td>\n",
       "      <td>5.303303e+10</td>\n",
       "    </tr>\n",
       "    <tr>\n",
       "      <th>4</th>\n",
       "      <td>Battery Electric Vehicle (BEV)</td>\n",
       "      <td>7SAYGDEE5N</td>\n",
       "      <td>192470470</td>\n",
       "      <td>2022</td>\n",
       "      <td>TESLA</td>\n",
       "      <td>Model Y</td>\n",
       "      <td>Passenger</td>\n",
       "      <td>0.0</td>\n",
       "      <td>15</td>\n",
       "      <td>New</td>\n",
       "      <td>...</td>\n",
       "      <td>February 18 2022</td>\n",
       "      <td>2022</td>\n",
       "      <td>King</td>\n",
       "      <td>KIRKLAND</td>\n",
       "      <td>WA</td>\n",
       "      <td>98033.0</td>\n",
       "      <td>False</td>\n",
       "      <td>The sale price is too high</td>\n",
       "      <td>Not Applicable</td>\n",
       "      <td>5.303302e+10</td>\n",
       "    </tr>\n",
       "    <tr>\n",
       "      <th>...</th>\n",
       "      <td>...</td>\n",
       "      <td>...</td>\n",
       "      <td>...</td>\n",
       "      <td>...</td>\n",
       "      <td>...</td>\n",
       "      <td>...</td>\n",
       "      <td>...</td>\n",
       "      <td>...</td>\n",
       "      <td>...</td>\n",
       "      <td>...</td>\n",
       "      <td>...</td>\n",
       "      <td>...</td>\n",
       "      <td>...</td>\n",
       "      <td>...</td>\n",
       "      <td>...</td>\n",
       "      <td>...</td>\n",
       "      <td>...</td>\n",
       "      <td>...</td>\n",
       "      <td>...</td>\n",
       "      <td>...</td>\n",
       "      <td>...</td>\n",
       "    </tr>\n",
       "    <tr>\n",
       "      <th>274284</th>\n",
       "      <td>Battery Electric Vehicle (BEV)</td>\n",
       "      <td>JTMABABA2P</td>\n",
       "      <td>249931475</td>\n",
       "      <td>2023</td>\n",
       "      <td>SUBARU</td>\n",
       "      <td>Solterra</td>\n",
       "      <td>Passenger</td>\n",
       "      <td>0.0</td>\n",
       "      <td>5</td>\n",
       "      <td>New</td>\n",
       "      <td>...</td>\n",
       "      <td>July 13 2023</td>\n",
       "      <td>2023</td>\n",
       "      <td>King</td>\n",
       "      <td>TUKWILA</td>\n",
       "      <td>WA</td>\n",
       "      <td>98188.0</td>\n",
       "      <td>True</td>\n",
       "      <td>Sale price/value requirement is met</td>\n",
       "      <td>Not Applicable</td>\n",
       "      <td>5.303303e+10</td>\n",
       "    </tr>\n",
       "    <tr>\n",
       "      <th>274285</th>\n",
       "      <td>Battery Electric Vehicle (BEV)</td>\n",
       "      <td>JTMABABA0P</td>\n",
       "      <td>250003155</td>\n",
       "      <td>2023</td>\n",
       "      <td>SUBARU</td>\n",
       "      <td>Solterra</td>\n",
       "      <td>Passenger</td>\n",
       "      <td>0.0</td>\n",
       "      <td>5</td>\n",
       "      <td>New</td>\n",
       "      <td>...</td>\n",
       "      <td>July 13 2023</td>\n",
       "      <td>2023</td>\n",
       "      <td>King</td>\n",
       "      <td>TUKWILA</td>\n",
       "      <td>WA</td>\n",
       "      <td>98188.0</td>\n",
       "      <td>True</td>\n",
       "      <td>Sale price/value requirement is met</td>\n",
       "      <td>Not Applicable</td>\n",
       "      <td>5.303303e+10</td>\n",
       "    </tr>\n",
       "    <tr>\n",
       "      <th>274286</th>\n",
       "      <td>Battery Electric Vehicle (BEV)</td>\n",
       "      <td>7SAYGDEE7P</td>\n",
       "      <td>249975351</td>\n",
       "      <td>2023</td>\n",
       "      <td>TESLA</td>\n",
       "      <td>Model Y</td>\n",
       "      <td>Passenger</td>\n",
       "      <td>0.0</td>\n",
       "      <td>15</td>\n",
       "      <td>New</td>\n",
       "      <td>...</td>\n",
       "      <td>August 17 2023</td>\n",
       "      <td>2023</td>\n",
       "      <td>King</td>\n",
       "      <td>AUBURN</td>\n",
       "      <td>WA</td>\n",
       "      <td>98001.0</td>\n",
       "      <td>False</td>\n",
       "      <td>The sale price is too high</td>\n",
       "      <td>Not Applicable</td>\n",
       "      <td>5.303303e+10</td>\n",
       "    </tr>\n",
       "    <tr>\n",
       "      <th>274287</th>\n",
       "      <td>Plug-in Hybrid Electric Vehicle (PHEV)</td>\n",
       "      <td>1G1RD6S50H</td>\n",
       "      <td>158945265</td>\n",
       "      <td>2017</td>\n",
       "      <td>CHEVROLET</td>\n",
       "      <td>Volt</td>\n",
       "      <td>Passenger</td>\n",
       "      <td>53.0</td>\n",
       "      <td>61902</td>\n",
       "      <td>Used</td>\n",
       "      <td>...</td>\n",
       "      <td>November 09 2023</td>\n",
       "      <td>2023</td>\n",
       "      <td>Okanogan</td>\n",
       "      <td>WINTHROP</td>\n",
       "      <td>WA</td>\n",
       "      <td>98862.0</td>\n",
       "      <td>True</td>\n",
       "      <td>Sale price/value requirement is met</td>\n",
       "      <td>Not Applicable</td>\n",
       "      <td>5.304797e+10</td>\n",
       "    </tr>\n",
       "    <tr>\n",
       "      <th>274288</th>\n",
       "      <td>Battery Electric Vehicle (BEV)</td>\n",
       "      <td>7PDSGABA3P</td>\n",
       "      <td>251747625</td>\n",
       "      <td>2023</td>\n",
       "      <td>RIVIAN</td>\n",
       "      <td>R1S</td>\n",
       "      <td>Passenger</td>\n",
       "      <td>0.0</td>\n",
       "      <td>100</td>\n",
       "      <td>New</td>\n",
       "      <td>...</td>\n",
       "      <td>August 04 2023</td>\n",
       "      <td>2023</td>\n",
       "      <td>King</td>\n",
       "      <td>FEDERAL WAY</td>\n",
       "      <td>WA</td>\n",
       "      <td>98003.0</td>\n",
       "      <td>False</td>\n",
       "      <td>The sale price is too high</td>\n",
       "      <td>Not Applicable</td>\n",
       "      <td>5.303303e+10</td>\n",
       "    </tr>\n",
       "  </tbody>\n",
       "</table>\n",
       "<p>274289 rows × 24 columns</p>\n",
       "</div>"
      ],
      "text/plain": [
       "                                  Vehicle Type  VIN (1-10)  DOL Vehicle ID  \\\n",
       "0       Plug-in Hybrid Electric Vehicle (PHEV)  3MW5P9J00M       175488981   \n",
       "1               Battery Electric Vehicle (BEV)  1G1FY6S07L       137066513   \n",
       "2       Plug-in Hybrid Electric Vehicle (PHEV)  JTDKARFP0H       115210994   \n",
       "3               Battery Electric Vehicle (BEV)  7SAYGAEE5N       220970333   \n",
       "4               Battery Electric Vehicle (BEV)  7SAYGDEE5N       192470470   \n",
       "...                                        ...         ...             ...   \n",
       "274284          Battery Electric Vehicle (BEV)  JTMABABA2P       249931475   \n",
       "274285          Battery Electric Vehicle (BEV)  JTMABABA0P       250003155   \n",
       "274286          Battery Electric Vehicle (BEV)  7SAYGDEE7P       249975351   \n",
       "274287  Plug-in Hybrid Electric Vehicle (PHEV)  1G1RD6S50H       158945265   \n",
       "274288          Battery Electric Vehicle (BEV)  7PDSGABA3P       251747625   \n",
       "\n",
       "        Model Year       Make        Model Vehicle Primary Use  \\\n",
       "0             2021        BMW         330e           Passenger   \n",
       "1             2020  CHEVROLET      Bolt EV           Passenger   \n",
       "2             2017     TOYOTA  Prius Prime           Passenger   \n",
       "3             2022      TESLA      Model Y           Passenger   \n",
       "4             2022      TESLA      Model Y           Passenger   \n",
       "...            ...        ...          ...                 ...   \n",
       "274284        2023     SUBARU     Solterra           Passenger   \n",
       "274285        2023     SUBARU     Solterra           Passenger   \n",
       "274286        2023      TESLA      Model Y           Passenger   \n",
       "274287        2017  CHEVROLET         Volt           Passenger   \n",
       "274288        2023     RIVIAN          R1S           Passenger   \n",
       "\n",
       "        Electric Range  Odometer Reading New or Used Vehicle  ...  \\\n",
       "0                 20.0                10                 New  ...   \n",
       "1                259.0                10                 New  ...   \n",
       "2                 25.0               225                 New  ...   \n",
       "3                  0.0                15                 New  ...   \n",
       "4                  0.0                15                 New  ...   \n",
       "...                ...               ...                 ...  ...   \n",
       "274284             0.0                 5                 New  ...   \n",
       "274285             0.0                 5                 New  ...   \n",
       "274286             0.0                15                 New  ...   \n",
       "274287            53.0             61902                Used  ...   \n",
       "274288             0.0               100                 New  ...   \n",
       "\n",
       "        DOL Transaction Date Transaction Year    County         City  \\\n",
       "0            October 01 2021             2021      King      SEATTLE   \n",
       "1           December 30 2020             2020      King      SEATTLE   \n",
       "2           November 15 2017             2017      King      SEATTLE   \n",
       "3           November 17 2022             2022      King    SAMMAMISH   \n",
       "4           February 18 2022             2022      King     KIRKLAND   \n",
       "...                      ...              ...       ...          ...   \n",
       "274284          July 13 2023             2023      King      TUKWILA   \n",
       "274285          July 13 2023             2023      King      TUKWILA   \n",
       "274286        August 17 2023             2023      King       AUBURN   \n",
       "274287      November 09 2023             2023  Okanogan     WINTHROP   \n",
       "274288        August 04 2023             2023      King  FEDERAL WAY   \n",
       "\n",
       "       State of Residence  Postal Code  \\\n",
       "0                      WA      98125.0   \n",
       "1                      WA      98146.0   \n",
       "2                      WA      98146.0   \n",
       "3                      WA      98075.0   \n",
       "4                      WA      98033.0   \n",
       "...                   ...          ...   \n",
       "274284                 WA      98188.0   \n",
       "274285                 WA      98188.0   \n",
       "274286                 WA      98001.0   \n",
       "274287                 WA      98862.0   \n",
       "274288                 WA      98003.0   \n",
       "\n",
       "       Meets 2019 HB 2042 Sale Price/Value Requirement  \\\n",
       "0                                                False   \n",
       "1                                                 True   \n",
       "2                                                 True   \n",
       "3                                                False   \n",
       "4                                                False   \n",
       "...                                                ...   \n",
       "274284                                            True   \n",
       "274285                                            True   \n",
       "274286                                           False   \n",
       "274287                                            True   \n",
       "274288                                           False   \n",
       "\n",
       "       2019 HB 2042: Sale Price/Value Requirement Electric Vehicle Fee Paid  \\\n",
       "0                      The sale price is too high            Not Applicable   \n",
       "1             Sale price/value requirement is met            Not Applicable   \n",
       "2             Sale price/value requirement is met            Not Applicable   \n",
       "3                      The sale price is too high            Not Applicable   \n",
       "4                      The sale price is too high            Not Applicable   \n",
       "...                                           ...                       ...   \n",
       "274284        Sale price/value requirement is met            Not Applicable   \n",
       "274285        Sale price/value requirement is met            Not Applicable   \n",
       "274286                 The sale price is too high            Not Applicable   \n",
       "274287        Sale price/value requirement is met            Not Applicable   \n",
       "274288                 The sale price is too high            Not Applicable   \n",
       "\n",
       "       2020 Census Tract  \n",
       "0           5.303300e+10  \n",
       "1           5.303301e+10  \n",
       "2           5.303301e+10  \n",
       "3           5.303303e+10  \n",
       "4           5.303302e+10  \n",
       "...                  ...  \n",
       "274284      5.303303e+10  \n",
       "274285      5.303303e+10  \n",
       "274286      5.303303e+10  \n",
       "274287      5.304797e+10  \n",
       "274288      5.303303e+10  \n",
       "\n",
       "[274289 rows x 24 columns]"
      ]
     },
     "execution_count": 177,
     "metadata": {},
     "output_type": "execute_result"
    }
   ],
   "source": [
    "drop_duplicates"
   ]
  },
  {
   "cell_type": "code",
   "execution_count": 178,
   "id": "f2c6f0e0",
   "metadata": {},
   "outputs": [
    {
     "data": {
      "text/plain": [
       "(274289, 24)"
      ]
     },
     "execution_count": 178,
     "metadata": {},
     "output_type": "execute_result"
    }
   ],
   "source": [
    "drop_duplicates.shape"
   ]
  },
  {
   "cell_type": "code",
   "execution_count": 179,
   "id": "80a2c5a4",
   "metadata": {},
   "outputs": [
    {
     "name": "stdout",
     "output_type": "stream",
     "text": [
      "<class 'pandas.core.frame.DataFrame'>\n",
      "RangeIndex: 274289 entries, 0 to 274288\n",
      "Data columns (total 24 columns):\n",
      " #   Column                                           Non-Null Count   Dtype         \n",
      "---  ------                                           --------------   -----         \n",
      " 0   Vehicle Type                                     274289 non-null  object        \n",
      " 1   VIN (1-10)                                       274289 non-null  object        \n",
      " 2   DOL Vehicle ID                                   274289 non-null  int64         \n",
      " 3   Model Year                                       274289 non-null  int64         \n",
      " 4   Make                                             274289 non-null  object        \n",
      " 5   Model                                            274289 non-null  object        \n",
      " 6   Vehicle Primary Use                              274289 non-null  object        \n",
      " 7   Electric Range                                   274289 non-null  float64       \n",
      " 8   Odometer Reading                                 274289 non-null  int64         \n",
      " 9   New or Used Vehicle                              274289 non-null  object        \n",
      " 10  Sale Price ($)                                   274289 non-null  int64         \n",
      " 11  Sale Date                                        274289 non-null  datetime64[ns]\n",
      " 12  Base MSRP                                        274289 non-null  float64       \n",
      " 13  Transaction Type                                 274289 non-null  object        \n",
      " 14  DOL Transaction Date                             274289 non-null  object        \n",
      " 15  Transaction Year                                 274289 non-null  int64         \n",
      " 16  County                                           274289 non-null  object        \n",
      " 17  City                                             274289 non-null  object        \n",
      " 18  State of Residence                               274289 non-null  object        \n",
      " 19  Postal Code                                      274289 non-null  object        \n",
      " 20  Meets 2019 HB 2042 Sale Price/Value Requirement  274289 non-null  bool          \n",
      " 21  2019 HB 2042: Sale Price/Value Requirement       274289 non-null  object        \n",
      " 22  Electric Vehicle Fee Paid                        274289 non-null  object        \n",
      " 23  2020 Census Tract                                274289 non-null  float64       \n",
      "dtypes: bool(1), datetime64[ns](1), float64(3), int64(5), object(14)\n",
      "memory usage: 48.4+ MB\n"
     ]
    }
   ],
   "source": [
    "drop_duplicates.info()"
   ]
  },
  {
   "cell_type": "code",
   "execution_count": 180,
   "id": "9982a981",
   "metadata": {},
   "outputs": [],
   "source": [
    "#drop_duplicates.to_csv('Vehicle_Registration_Activity.csv')"
   ]
  },
  {
   "cell_type": "code",
   "execution_count": null,
   "id": "8c3f77a5",
   "metadata": {},
   "outputs": [],
   "source": []
  },
  {
   "cell_type": "markdown",
   "id": "04c5a226",
   "metadata": {},
   "source": [
    "**No of Electrics Vehicles by Vehicle Type**"
   ]
  },
  {
   "cell_type": "code",
   "execution_count": 181,
   "id": "49810360",
   "metadata": {},
   "outputs": [
    {
     "data": {
      "text/html": [
       "<div>\n",
       "<style scoped>\n",
       "    .dataframe tbody tr th:only-of-type {\n",
       "        vertical-align: middle;\n",
       "    }\n",
       "\n",
       "    .dataframe tbody tr th {\n",
       "        vertical-align: top;\n",
       "    }\n",
       "\n",
       "    .dataframe thead th {\n",
       "        text-align: right;\n",
       "    }\n",
       "</style>\n",
       "<table border=\"1\" class=\"dataframe\">\n",
       "  <thead>\n",
       "    <tr style=\"text-align: right;\">\n",
       "      <th></th>\n",
       "      <th>Vehicle Type</th>\n",
       "      <th>no.of.electric_vehicles</th>\n",
       "    </tr>\n",
       "  </thead>\n",
       "  <tbody>\n",
       "    <tr>\n",
       "      <th>0</th>\n",
       "      <td>Battery Electric Vehicle (BEV)</td>\n",
       "      <td>208608</td>\n",
       "    </tr>\n",
       "    <tr>\n",
       "      <th>1</th>\n",
       "      <td>Hydrogen Powered Vehicle</td>\n",
       "      <td>3</td>\n",
       "    </tr>\n",
       "    <tr>\n",
       "      <th>2</th>\n",
       "      <td>Plug-in Hybrid Electric Vehicle (PHEV)</td>\n",
       "      <td>65678</td>\n",
       "    </tr>\n",
       "  </tbody>\n",
       "</table>\n",
       "</div>"
      ],
      "text/plain": [
       "                             Vehicle Type  no.of.electric_vehicles\n",
       "0          Battery Electric Vehicle (BEV)                   208608\n",
       "1                Hydrogen Powered Vehicle                        3\n",
       "2  Plug-in Hybrid Electric Vehicle (PHEV)                    65678"
      ]
     },
     "execution_count": 181,
     "metadata": {},
     "output_type": "execute_result"
    }
   ],
   "source": [
    "drop_duplicates.groupby(['Vehicle Type'])['Model'].count().reset_index(name='no.of.electric_vehicles')"
   ]
  },
  {
   "cell_type": "code",
   "execution_count": null,
   "id": "9d105f0d",
   "metadata": {},
   "outputs": [],
   "source": []
  },
  {
   "cell_type": "markdown",
   "id": "80e3a316",
   "metadata": {},
   "source": [
    "**Top 10 EV Model With Highest Range**"
   ]
  },
  {
   "cell_type": "code",
   "execution_count": 182,
   "id": "ecd5f88f",
   "metadata": {},
   "outputs": [
    {
     "data": {
      "text/plain": [
       "Model\n",
       "Model S     337.0\n",
       "Model 3     322.0\n",
       "Model X     293.0\n",
       "Model Y     291.0\n",
       "Bolt EV     259.0\n",
       "Kona        258.0\n",
       "Roadster    245.0\n",
       "Niro        239.0\n",
       "I-PACE      234.0\n",
       "PS2         233.0\n",
       "Name: Electric Range, dtype: float64"
      ]
     },
     "execution_count": 182,
     "metadata": {},
     "output_type": "execute_result"
    }
   ],
   "source": [
    "drop_duplicates.groupby('Model')['Electric Range'].max().sort_values(ascending=False).head(10)"
   ]
  },
  {
   "cell_type": "code",
   "execution_count": 183,
   "id": "ede03c74",
   "metadata": {},
   "outputs": [
    {
     "data": {
      "image/png": "[encoded data removed]",
      "text/plain": [
       "<Figure size 640x480 with 1 Axes>"
      ]
     },
     "metadata": {},
     "output_type": "display_data"
    }
   ],
   "source": [
    "drop_duplicates.groupby('Model')['Electric Range'].max().sort_values(ascending=False).head(10).plot(kind='bar',color=\"darkorange\")\n",
    "plt.ylabel('Maximum Electric Range')\n",
    "plt.xticks(rotation=75)\n",
    "plt.suptitle('Top 10 EV Model with Highest Range')\n",
    "plt.show()"
   ]
  },
  {
   "cell_type": "code",
   "execution_count": null,
   "id": "bf713856",
   "metadata": {},
   "outputs": [],
   "source": []
  },
  {
   "cell_type": "markdown",
   "id": "c40246d5",
   "metadata": {},
   "source": [
    "**Electrical Vehicles of which company are the most popular?**"
   ]
  },
  {
   "cell_type": "code",
   "execution_count": 184,
   "id": "a3a50ba7",
   "metadata": {},
   "outputs": [],
   "source": [
    "popular_company = drop_duplicates.groupby([\"Make\"])['County'].count()\n",
    "popular_company = popular_company.reset_index()\n",
    "popular_company = popular_company.rename(columns = {\"Make\":\"Company\", \"County\":\"Total number of vehicles\"})\n",
    "popular_company = popular_company.sort_values(by = \"Total number of vehicles\",ascending=False)\n"
   ]
  },
  {
   "cell_type": "code",
   "execution_count": 185,
   "id": "0e41f839",
   "metadata": {},
   "outputs": [
    {
     "data": {
      "text/html": [
       "<div>\n",
       "<style scoped>\n",
       "    .dataframe tbody tr th:only-of-type {\n",
       "        vertical-align: middle;\n",
       "    }\n",
       "\n",
       "    .dataframe tbody tr th {\n",
       "        vertical-align: top;\n",
       "    }\n",
       "\n",
       "    .dataframe thead th {\n",
       "        text-align: right;\n",
       "    }\n",
       "</style>\n",
       "<table border=\"1\" class=\"dataframe\">\n",
       "  <thead>\n",
       "    <tr style=\"text-align: right;\">\n",
       "      <th></th>\n",
       "      <th>Company</th>\n",
       "      <th>Total number of vehicles</th>\n",
       "    </tr>\n",
       "  </thead>\n",
       "  <tbody>\n",
       "    <tr>\n",
       "      <th>35</th>\n",
       "      <td>TESLA</td>\n",
       "      <td>103481</td>\n",
       "    </tr>\n",
       "    <tr>\n",
       "      <th>28</th>\n",
       "      <td>NISSAN</td>\n",
       "      <td>47491</td>\n",
       "    </tr>\n",
       "    <tr>\n",
       "      <th>7</th>\n",
       "      <td>CHEVROLET</td>\n",
       "      <td>24715</td>\n",
       "    </tr>\n",
       "    <tr>\n",
       "      <th>12</th>\n",
       "      <td>FORD</td>\n",
       "      <td>17322</td>\n",
       "    </tr>\n",
       "    <tr>\n",
       "      <th>4</th>\n",
       "      <td>BMW</td>\n",
       "      <td>13536</td>\n",
       "    </tr>\n",
       "    <tr>\n",
       "      <th>19</th>\n",
       "      <td>KIA</td>\n",
       "      <td>10547</td>\n",
       "    </tr>\n",
       "    <tr>\n",
       "      <th>37</th>\n",
       "      <td>TOYOTA</td>\n",
       "      <td>8760</td>\n",
       "    </tr>\n",
       "    <tr>\n",
       "      <th>38</th>\n",
       "      <td>VOLKSWAGEN</td>\n",
       "      <td>6195</td>\n",
       "    </tr>\n",
       "    <tr>\n",
       "      <th>39</th>\n",
       "      <td>VOLVO</td>\n",
       "      <td>5160</td>\n",
       "    </tr>\n",
       "    <tr>\n",
       "      <th>1</th>\n",
       "      <td>AUDI</td>\n",
       "      <td>5012</td>\n",
       "    </tr>\n",
       "    <tr>\n",
       "      <th>18</th>\n",
       "      <td>JEEP</td>\n",
       "      <td>4877</td>\n",
       "    </tr>\n",
       "    <tr>\n",
       "      <th>16</th>\n",
       "      <td>HYUNDAI</td>\n",
       "      <td>4787</td>\n",
       "    </tr>\n",
       "    <tr>\n",
       "      <th>31</th>\n",
       "      <td>RIVIAN</td>\n",
       "      <td>4111</td>\n",
       "    </tr>\n",
       "    <tr>\n",
       "      <th>8</th>\n",
       "      <td>CHRYSLER</td>\n",
       "      <td>3747</td>\n",
       "    </tr>\n",
       "    <tr>\n",
       "      <th>25</th>\n",
       "      <td>MERCEDES-BENZ</td>\n",
       "      <td>1885</td>\n",
       "    </tr>\n",
       "    <tr>\n",
       "      <th>30</th>\n",
       "      <td>PORSCHE</td>\n",
       "      <td>1695</td>\n",
       "    </tr>\n",
       "    <tr>\n",
       "      <th>10</th>\n",
       "      <td>FIAT</td>\n",
       "      <td>1650</td>\n",
       "    </tr>\n",
       "    <tr>\n",
       "      <th>27</th>\n",
       "      <td>MITSUBISHI</td>\n",
       "      <td>1420</td>\n",
       "    </tr>\n",
       "    <tr>\n",
       "      <th>15</th>\n",
       "      <td>HONDA</td>\n",
       "      <td>1174</td>\n",
       "    </tr>\n",
       "    <tr>\n",
       "      <th>26</th>\n",
       "      <td>MINI</td>\n",
       "      <td>1138</td>\n",
       "    </tr>\n",
       "    <tr>\n",
       "      <th>29</th>\n",
       "      <td>POLESTAR</td>\n",
       "      <td>1009</td>\n",
       "    </tr>\n",
       "    <tr>\n",
       "      <th>34</th>\n",
       "      <td>SUBARU</td>\n",
       "      <td>855</td>\n",
       "    </tr>\n",
       "    <tr>\n",
       "      <th>33</th>\n",
       "      <td>SMART</td>\n",
       "      <td>642</td>\n",
       "    </tr>\n",
       "    <tr>\n",
       "      <th>6</th>\n",
       "      <td>CADILLAC</td>\n",
       "      <td>527</td>\n",
       "    </tr>\n",
       "    <tr>\n",
       "      <th>24</th>\n",
       "      <td>MAZDA</td>\n",
       "      <td>445</td>\n",
       "    </tr>\n",
       "    <tr>\n",
       "      <th>17</th>\n",
       "      <td>JAGUAR</td>\n",
       "      <td>390</td>\n",
       "    </tr>\n",
       "    <tr>\n",
       "      <th>9</th>\n",
       "      <td>DODGE</td>\n",
       "      <td>382</td>\n",
       "    </tr>\n",
       "    <tr>\n",
       "      <th>21</th>\n",
       "      <td>LEXUS</td>\n",
       "      <td>346</td>\n",
       "    </tr>\n",
       "    <tr>\n",
       "      <th>22</th>\n",
       "      <td>LINCOLN</td>\n",
       "      <td>312</td>\n",
       "    </tr>\n",
       "    <tr>\n",
       "      <th>23</th>\n",
       "      <td>LUCID</td>\n",
       "      <td>250</td>\n",
       "    </tr>\n",
       "    <tr>\n",
       "      <th>13</th>\n",
       "      <td>GENESIS</td>\n",
       "      <td>168</td>\n",
       "    </tr>\n",
       "    <tr>\n",
       "      <th>11</th>\n",
       "      <td>FISKER</td>\n",
       "      <td>100</td>\n",
       "    </tr>\n",
       "    <tr>\n",
       "      <th>20</th>\n",
       "      <td>LAND ROVER</td>\n",
       "      <td>80</td>\n",
       "    </tr>\n",
       "    <tr>\n",
       "      <th>0</th>\n",
       "      <td>ALFA ROMEO</td>\n",
       "      <td>34</td>\n",
       "    </tr>\n",
       "    <tr>\n",
       "      <th>40</th>\n",
       "      <td>WHEEGO ELECTRIC CARS</td>\n",
       "      <td>15</td>\n",
       "    </tr>\n",
       "    <tr>\n",
       "      <th>2</th>\n",
       "      <td>AZURE DYNAMICS</td>\n",
       "      <td>14</td>\n",
       "    </tr>\n",
       "    <tr>\n",
       "      <th>36</th>\n",
       "      <td>TH!NK</td>\n",
       "      <td>6</td>\n",
       "    </tr>\n",
       "    <tr>\n",
       "      <th>3</th>\n",
       "      <td>BENTLEY</td>\n",
       "      <td>5</td>\n",
       "    </tr>\n",
       "    <tr>\n",
       "      <th>5</th>\n",
       "      <td>BUBBLE BUDDY</td>\n",
       "      <td>3</td>\n",
       "    </tr>\n",
       "    <tr>\n",
       "      <th>14</th>\n",
       "      <td>GMC</td>\n",
       "      <td>2</td>\n",
       "    </tr>\n",
       "    <tr>\n",
       "      <th>32</th>\n",
       "      <td>ROLLS ROYCE</td>\n",
       "      <td>1</td>\n",
       "    </tr>\n",
       "  </tbody>\n",
       "</table>\n",
       "</div>"
      ],
      "text/plain": [
       "                 Company  Total number of vehicles\n",
       "35                 TESLA                    103481\n",
       "28                NISSAN                     47491\n",
       "7              CHEVROLET                     24715\n",
       "12                  FORD                     17322\n",
       "4                    BMW                     13536\n",
       "19                   KIA                     10547\n",
       "37                TOYOTA                      8760\n",
       "38            VOLKSWAGEN                      6195\n",
       "39                 VOLVO                      5160\n",
       "1                   AUDI                      5012\n",
       "18                  JEEP                      4877\n",
       "16               HYUNDAI                      4787\n",
       "31                RIVIAN                      4111\n",
       "8               CHRYSLER                      3747\n",
       "25         MERCEDES-BENZ                      1885\n",
       "30               PORSCHE                      1695\n",
       "10                  FIAT                      1650\n",
       "27            MITSUBISHI                      1420\n",
       "15                 HONDA                      1174\n",
       "26                  MINI                      1138\n",
       "29              POLESTAR                      1009\n",
       "34                SUBARU                       855\n",
       "33                 SMART                       642\n",
       "6               CADILLAC                       527\n",
       "24                 MAZDA                       445\n",
       "17                JAGUAR                       390\n",
       "9                  DODGE                       382\n",
       "21                 LEXUS                       346\n",
       "22               LINCOLN                       312\n",
       "23                 LUCID                       250\n",
       "13               GENESIS                       168\n",
       "11                FISKER                       100\n",
       "20            LAND ROVER                        80\n",
       "0             ALFA ROMEO                        34\n",
       "40  WHEEGO ELECTRIC CARS                        15\n",
       "2         AZURE DYNAMICS                        14\n",
       "36                 TH!NK                         6\n",
       "3                BENTLEY                         5\n",
       "5           BUBBLE BUDDY                         3\n",
       "14                   GMC                         2\n",
       "32           ROLLS ROYCE                         1"
      ]
     },
     "execution_count": 185,
     "metadata": {},
     "output_type": "execute_result"
    }
   ],
   "source": [
    "popular_company"
   ]
  },
  {
   "cell_type": "markdown",
   "id": "c5b9ec2e",
   "metadata": {},
   "source": [
    "**Tesla is a Most Popular Country**"
   ]
  },
  {
   "cell_type": "code",
   "execution_count": 186,
   "id": "a656233f",
   "metadata": {},
   "outputs": [
    {
     "data": {
      "image/png": "[encoded data removed]",
      "text/plain": [
       "<Figure size 900x600 with 1 Axes>"
      ]
     },
     "metadata": {},
     "output_type": "display_data"
    }
   ],
   "source": [
    "plt.figure(figsize=(9, 6))\n",
    "ax = sns.barplot(x = popular_company[\"Total number of vehicles\"], y = popular_company[\"Company\"])\n",
    "plt.yticks(fontsize=6)\n",
    "plt.title('Popular Companies')\n",
    "plt.show()"
   ]
  },
  {
   "cell_type": "markdown",
   "id": "86aa8c1f",
   "metadata": {},
   "source": [
    "**Total Number of Vehicles Of AUDI**"
   ]
  },
  {
   "cell_type": "code",
   "execution_count": 187,
   "id": "47039545",
   "metadata": {},
   "outputs": [
    {
     "data": {
      "text/html": [
       "<div>\n",
       "<style scoped>\n",
       "    .dataframe tbody tr th:only-of-type {\n",
       "        vertical-align: middle;\n",
       "    }\n",
       "\n",
       "    .dataframe tbody tr th {\n",
       "        vertical-align: top;\n",
       "    }\n",
       "\n",
       "    .dataframe thead th {\n",
       "        text-align: right;\n",
       "    }\n",
       "</style>\n",
       "<table border=\"1\" class=\"dataframe\">\n",
       "  <thead>\n",
       "    <tr style=\"text-align: right;\">\n",
       "      <th></th>\n",
       "      <th>Company</th>\n",
       "      <th>Total number of vehicles</th>\n",
       "    </tr>\n",
       "  </thead>\n",
       "  <tbody>\n",
       "    <tr>\n",
       "      <th>1</th>\n",
       "      <td>AUDI</td>\n",
       "      <td>5012</td>\n",
       "    </tr>\n",
       "  </tbody>\n",
       "</table>\n",
       "</div>"
      ],
      "text/plain": [
       "  Company  Total number of vehicles\n",
       "1    AUDI                      5012"
      ]
     },
     "execution_count": 187,
     "metadata": {},
     "output_type": "execute_result"
    }
   ],
   "source": [
    "popular_company[popular_company['Company']=='AUDI']"
   ]
  },
  {
   "cell_type": "code",
   "execution_count": null,
   "id": "e6d1c07d",
   "metadata": {},
   "outputs": [],
   "source": []
  },
  {
   "cell_type": "code",
   "execution_count": null,
   "id": "f17a60fc",
   "metadata": {},
   "outputs": [],
   "source": []
  },
  {
   "cell_type": "markdown",
   "id": "8bb69018",
   "metadata": {},
   "source": [
    "**Number of EV's Registed by Model Year**"
   ]
  },
  {
   "cell_type": "code",
   "execution_count": 188,
   "id": "a6d89ed7",
   "metadata": {},
   "outputs": [
    {
     "data": {
      "text/plain": [
       "Model Year\n",
       "1993        1\n",
       "1997        1\n",
       "1998        2\n",
       "1999        5\n",
       "2000       24\n",
       "2003        2\n",
       "2008       26\n",
       "2010       94\n",
       "2011     4182\n",
       "2012     8119\n",
       "2013    20879\n",
       "2014    12702\n",
       "2015    17152\n",
       "2016    16931\n",
       "2017    17483\n",
       "2018    22742\n",
       "2019    17418\n",
       "2020    17122\n",
       "2021    24255\n",
       "2022    32548\n",
       "2023    57544\n",
       "2024     5057\n",
       "Name: count, dtype: int64"
      ]
     },
     "execution_count": 188,
     "metadata": {},
     "output_type": "execute_result"
    }
   ],
   "source": [
    "model_year_counts = drop_duplicates['Model Year'].value_counts().sort_index()\n",
    "model_year_counts"
   ]
  },
  {
   "cell_type": "code",
   "execution_count": 189,
   "id": "9a6e8ab7",
   "metadata": {},
   "outputs": [
    {
     "name": "stderr",
     "output_type": "stream",
     "text": [
      "C:\\Users\\Neha Koli\\anaconda3\\Lib\\site-packages\\seaborn\\axisgrid.py:118: UserWarning: The figure layout has changed to tight\n",
      "  self._figure.tight_layout(*args, **kwargs)\n"
     ]
    },
    {
     "data": {
      "text/plain": [
       "<seaborn.axisgrid.FacetGrid at 0x20420488450>"
      ]
     },
     "execution_count": 189,
     "metadata": {},
     "output_type": "execute_result"
    },
    {
     "data": {
      "image/png": "[encoded data removed]",
      "text/plain": [
       "<Figure size 500x500 with 1 Axes>"
      ]
     },
     "metadata": {},
     "output_type": "display_data"
    }
   ],
   "source": [
    "sns.displot(drop_duplicates['Model Year'],kde=True)"
   ]
  },
  {
   "cell_type": "code",
   "execution_count": 190,
   "id": "ee40c96b",
   "metadata": {},
   "outputs": [
    {
     "data": {
      "text/plain": [
       "Index([1993, 1997, 1998, 1999, 2000, 2003, 2008, 2010, 2011, 2012, 2013, 2014,\n",
       "       2015, 2016, 2017, 2018, 2019, 2020, 2021, 2022, 2023, 2024],\n",
       "      dtype='int64', name='Model Year')"
      ]
     },
     "execution_count": 190,
     "metadata": {},
     "output_type": "execute_result"
    }
   ],
   "source": [
    "model_year_counts.index"
   ]
  },
  {
   "cell_type": "code",
   "execution_count": 191,
   "id": "072f8a8a",
   "metadata": {},
   "outputs": [
    {
     "data": {
      "text/plain": [
       "array([    1,     1,     2,     5,    24,     2,    26,    94,  4182,\n",
       "        8119, 20879, 12702, 17152, 16931, 17483, 22742, 17418, 17122,\n",
       "       24255, 32548, 57544,  5057], dtype=int64)"
      ]
     },
     "execution_count": 191,
     "metadata": {},
     "output_type": "execute_result"
    }
   ],
   "source": [
    "model_year_counts.values"
   ]
  },
  {
   "cell_type": "code",
   "execution_count": 192,
   "id": "6d536700",
   "metadata": {},
   "outputs": [
    {
     "data": {
      "image/png": "[encoded data removed]",
      "text/plain": [
       "<Figure size 1800x600 with 1 Axes>"
      ]
     },
     "metadata": {},
     "output_type": "display_data"
    }
   ],
   "source": [
    "# growth or decrease in the number of vehicles by Model Year\n",
    "plt.figure(figsize=(18, 6))\n",
    "plt.plot(model_year_counts.index, model_year_counts.values, marker='o', linestyle='-')\n",
    "plt.xlabel('Model Year')\n",
    "plt.ylabel('Number of Vehicles')\n",
    "plt.title('Growth/Decrease in the Number of Vehicles by Model Year')\n",
    "\n",
    "plt.xticks(model_year_counts.index)\n",
    "plt.show()"
   ]
  },
  {
   "cell_type": "markdown",
   "id": "a0ea3ce0",
   "metadata": {},
   "source": [
    "**Top 15 Car Makers**"
   ]
  },
  {
   "cell_type": "code",
   "execution_count": 193,
   "id": "83423166",
   "metadata": {},
   "outputs": [
    {
     "data": {
      "text/plain": [
       "Make\n",
       "TESLA            103481\n",
       "NISSAN            47491\n",
       "CHEVROLET         24715\n",
       "FORD              17322\n",
       "BMW               13536\n",
       "KIA               10547\n",
       "TOYOTA             8760\n",
       "VOLKSWAGEN         6195\n",
       "VOLVO              5160\n",
       "AUDI               5012\n",
       "JEEP               4877\n",
       "HYUNDAI            4787\n",
       "RIVIAN             4111\n",
       "CHRYSLER           3747\n",
       "MERCEDES-BENZ      1885\n",
       "Name: count, dtype: int64"
      ]
     },
     "execution_count": 193,
     "metadata": {},
     "output_type": "execute_result"
    }
   ],
   "source": [
    "makers = drop_duplicates['Make'].value_counts()\n",
    "\n",
    "# Get the top 15 makers\n",
    "top_15 = makers.head(15)\n",
    "top_15"
   ]
  },
  {
   "cell_type": "code",
   "execution_count": 194,
   "id": "e2c3c3dd",
   "metadata": {},
   "outputs": [
    {
     "data": {
      "image/png": "[encoded data removed]",
      "text/plain": [
       "<Figure size 800x600 with 1 Axes>"
      ]
     },
     "metadata": {},
     "output_type": "display_data"
    }
   ],
   "source": [
    "plt.figure(figsize=(8, 6))\n",
    "plt.bar(top_15.index.astype(str), top_15.values, color='seagreen')\n",
    "plt.xlabel('Car Makers')\n",
    "plt.ylabel('counts')\n",
    "plt.title('Top 15 Car Makers')\n",
    "plt.xticks(rotation=45, ha='right')\n",
    "plt.tight_layout()\n",
    "plt.show()"
   ]
  },
  {
   "cell_type": "code",
   "execution_count": null,
   "id": "8dee03fb",
   "metadata": {},
   "outputs": [],
   "source": []
  },
  {
   "cell_type": "code",
   "execution_count": null,
   "id": "267531be",
   "metadata": {},
   "outputs": [],
   "source": []
  },
  {
   "cell_type": "markdown",
   "id": "62cfea27",
   "metadata": {},
   "source": [
    "**Car Makers with Average EV range**"
   ]
  },
  {
   "cell_type": "code",
   "execution_count": 195,
   "id": "ad4c8f71",
   "metadata": {},
   "outputs": [
    {
     "data": {
      "text/plain": [
       "Make\n",
       "JAGUAR                  209.400000\n",
       "TESLA                   103.005015\n",
       "WHEEGO ELECTRIC CARS    100.000000\n",
       "TH!NK                   100.000000\n",
       "CHEVROLET                87.876229\n",
       "FIAT                     85.934545\n",
       "NISSAN                   83.709777\n",
       "SMART                    62.314642\n",
       "KIA                      59.760595\n",
       "AUDI                     56.813647\n",
       "Name: Electric Range, dtype: float64"
      ]
     },
     "execution_count": 195,
     "metadata": {},
     "output_type": "execute_result"
    }
   ],
   "source": [
    "electric_range = drop_duplicates.groupby(['Make'])['Electric Range'].mean().sort_values(ascending=False)\n",
    "\n",
    "# Get the top 15 makers\n",
    "model = electric_range.head(10)\n",
    "model"
   ]
  },
  {
   "cell_type": "code",
   "execution_count": 196,
   "id": "9196cd2b",
   "metadata": {},
   "outputs": [
    {
     "data": {
      "image/png": "[encoded data removed]",
      "text/plain": [
       "<Figure size 800x600 with 1 Axes>"
      ]
     },
     "metadata": {},
     "output_type": "display_data"
    }
   ],
   "source": [
    "plt.figure(figsize=(8, 6))\n",
    "plt.bar(model.index.astype(str), model.values, color='brown')\n",
    "plt.xlabel('Car Model')\n",
    "plt.ylabel('Electric Range')\n",
    "plt.title('Average EV Car Electric Range')\n",
    "plt.xticks(rotation=45, ha='right')\n",
    "plt.tight_layout()\n",
    "plt.show()"
   ]
  },
  {
   "cell_type": "code",
   "execution_count": null,
   "id": "b0dd1cab",
   "metadata": {},
   "outputs": [],
   "source": []
  },
  {
   "cell_type": "markdown",
   "id": "c1101065",
   "metadata": {},
   "source": [
    "**Models of which years are the most popular?**"
   ]
  },
  {
   "cell_type": "code",
   "execution_count": 197,
   "id": "608139ff",
   "metadata": {},
   "outputs": [],
   "source": [
    "counting_year = drop_duplicates.groupby([\"Model Year\",  \"Vehicle Type\"])['County'].count()\n",
    "counting_year = counting_year.to_frame().reset_index()\n",
    "counting_year = counting_year.rename(columns = {\"Model Year\":\"Model Year\", \"County\":\"Total number of vehicles\"})\n",
    "counting_year = counting_year.sort_values(by = \"Total number of vehicles\")"
   ]
  },
  {
   "cell_type": "code",
   "execution_count": 198,
   "id": "a36b0785",
   "metadata": {},
   "outputs": [
    {
     "data": {
      "text/html": [
       "<div>\n",
       "<style scoped>\n",
       "    .dataframe tbody tr th:only-of-type {\n",
       "        vertical-align: middle;\n",
       "    }\n",
       "\n",
       "    .dataframe tbody tr th {\n",
       "        vertical-align: top;\n",
       "    }\n",
       "\n",
       "    .dataframe thead th {\n",
       "        text-align: right;\n",
       "    }\n",
       "</style>\n",
       "<table border=\"1\" class=\"dataframe\">\n",
       "  <thead>\n",
       "    <tr style=\"text-align: right;\">\n",
       "      <th></th>\n",
       "      <th>Model Year</th>\n",
       "      <th>Vehicle Type</th>\n",
       "      <th>Total number of vehicles</th>\n",
       "    </tr>\n",
       "  </thead>\n",
       "  <tbody>\n",
       "    <tr>\n",
       "      <th>0</th>\n",
       "      <td>1993</td>\n",
       "      <td>Battery Electric Vehicle (BEV)</td>\n",
       "      <td>1</td>\n",
       "    </tr>\n",
       "    <tr>\n",
       "      <th>1</th>\n",
       "      <td>1997</td>\n",
       "      <td>Battery Electric Vehicle (BEV)</td>\n",
       "      <td>1</td>\n",
       "    </tr>\n",
       "    <tr>\n",
       "      <th>21</th>\n",
       "      <td>2016</td>\n",
       "      <td>Hydrogen Powered Vehicle</td>\n",
       "      <td>1</td>\n",
       "    </tr>\n",
       "    <tr>\n",
       "      <th>2</th>\n",
       "      <td>1998</td>\n",
       "      <td>Battery Electric Vehicle (BEV)</td>\n",
       "      <td>2</td>\n",
       "    </tr>\n",
       "    <tr>\n",
       "      <th>5</th>\n",
       "      <td>2003</td>\n",
       "      <td>Battery Electric Vehicle (BEV)</td>\n",
       "      <td>2</td>\n",
       "    </tr>\n",
       "    <tr>\n",
       "      <th>18</th>\n",
       "      <td>2015</td>\n",
       "      <td>Hydrogen Powered Vehicle</td>\n",
       "      <td>2</td>\n",
       "    </tr>\n",
       "    <tr>\n",
       "      <th>3</th>\n",
       "      <td>1999</td>\n",
       "      <td>Battery Electric Vehicle (BEV)</td>\n",
       "      <td>5</td>\n",
       "    </tr>\n",
       "    <tr>\n",
       "      <th>8</th>\n",
       "      <td>2010</td>\n",
       "      <td>Plug-in Hybrid Electric Vehicle (PHEV)</td>\n",
       "      <td>15</td>\n",
       "    </tr>\n",
       "    <tr>\n",
       "      <th>4</th>\n",
       "      <td>2000</td>\n",
       "      <td>Battery Electric Vehicle (BEV)</td>\n",
       "      <td>24</td>\n",
       "    </tr>\n",
       "    <tr>\n",
       "      <th>6</th>\n",
       "      <td>2008</td>\n",
       "      <td>Battery Electric Vehicle (BEV)</td>\n",
       "      <td>26</td>\n",
       "    </tr>\n",
       "    <tr>\n",
       "      <th>7</th>\n",
       "      <td>2010</td>\n",
       "      <td>Battery Electric Vehicle (BEV)</td>\n",
       "      <td>79</td>\n",
       "    </tr>\n",
       "    <tr>\n",
       "      <th>10</th>\n",
       "      <td>2011</td>\n",
       "      <td>Plug-in Hybrid Electric Vehicle (PHEV)</td>\n",
       "      <td>214</td>\n",
       "    </tr>\n",
       "    <tr>\n",
       "      <th>37</th>\n",
       "      <td>2024</td>\n",
       "      <td>Battery Electric Vehicle (BEV)</td>\n",
       "      <td>1985</td>\n",
       "    </tr>\n",
       "    <tr>\n",
       "      <th>30</th>\n",
       "      <td>2020</td>\n",
       "      <td>Plug-in Hybrid Electric Vehicle (PHEV)</td>\n",
       "      <td>2471</td>\n",
       "    </tr>\n",
       "    <tr>\n",
       "      <th>38</th>\n",
       "      <td>2024</td>\n",
       "      <td>Plug-in Hybrid Electric Vehicle (PHEV)</td>\n",
       "      <td>3072</td>\n",
       "    </tr>\n",
       "    <tr>\n",
       "      <th>28</th>\n",
       "      <td>2019</td>\n",
       "      <td>Plug-in Hybrid Electric Vehicle (PHEV)</td>\n",
       "      <td>3169</td>\n",
       "    </tr>\n",
       "    <tr>\n",
       "      <th>12</th>\n",
       "      <td>2012</td>\n",
       "      <td>Plug-in Hybrid Electric Vehicle (PHEV)</td>\n",
       "      <td>3318</td>\n",
       "    </tr>\n",
       "    <tr>\n",
       "      <th>19</th>\n",
       "      <td>2015</td>\n",
       "      <td>Plug-in Hybrid Electric Vehicle (PHEV)</td>\n",
       "      <td>3838</td>\n",
       "    </tr>\n",
       "    <tr>\n",
       "      <th>9</th>\n",
       "      <td>2011</td>\n",
       "      <td>Battery Electric Vehicle (BEV)</td>\n",
       "      <td>3968</td>\n",
       "    </tr>\n",
       "    <tr>\n",
       "      <th>32</th>\n",
       "      <td>2021</td>\n",
       "      <td>Plug-in Hybrid Electric Vehicle (PHEV)</td>\n",
       "      <td>4735</td>\n",
       "    </tr>\n",
       "    <tr>\n",
       "      <th>11</th>\n",
       "      <td>2012</td>\n",
       "      <td>Battery Electric Vehicle (BEV)</td>\n",
       "      <td>4801</td>\n",
       "    </tr>\n",
       "    <tr>\n",
       "      <th>22</th>\n",
       "      <td>2016</td>\n",
       "      <td>Plug-in Hybrid Electric Vehicle (PHEV)</td>\n",
       "      <td>4915</td>\n",
       "    </tr>\n",
       "    <tr>\n",
       "      <th>34</th>\n",
       "      <td>2022</td>\n",
       "      <td>Plug-in Hybrid Electric Vehicle (PHEV)</td>\n",
       "      <td>5021</td>\n",
       "    </tr>\n",
       "    <tr>\n",
       "      <th>16</th>\n",
       "      <td>2014</td>\n",
       "      <td>Plug-in Hybrid Electric Vehicle (PHEV)</td>\n",
       "      <td>5874</td>\n",
       "    </tr>\n",
       "    <tr>\n",
       "      <th>14</th>\n",
       "      <td>2013</td>\n",
       "      <td>Plug-in Hybrid Electric Vehicle (PHEV)</td>\n",
       "      <td>6044</td>\n",
       "    </tr>\n",
       "    <tr>\n",
       "      <th>15</th>\n",
       "      <td>2014</td>\n",
       "      <td>Battery Electric Vehicle (BEV)</td>\n",
       "      <td>6828</td>\n",
       "    </tr>\n",
       "    <tr>\n",
       "      <th>26</th>\n",
       "      <td>2018</td>\n",
       "      <td>Plug-in Hybrid Electric Vehicle (PHEV)</td>\n",
       "      <td>7195</td>\n",
       "    </tr>\n",
       "    <tr>\n",
       "      <th>36</th>\n",
       "      <td>2023</td>\n",
       "      <td>Plug-in Hybrid Electric Vehicle (PHEV)</td>\n",
       "      <td>7403</td>\n",
       "    </tr>\n",
       "    <tr>\n",
       "      <th>24</th>\n",
       "      <td>2017</td>\n",
       "      <td>Plug-in Hybrid Electric Vehicle (PHEV)</td>\n",
       "      <td>8394</td>\n",
       "    </tr>\n",
       "    <tr>\n",
       "      <th>23</th>\n",
       "      <td>2017</td>\n",
       "      <td>Battery Electric Vehicle (BEV)</td>\n",
       "      <td>9089</td>\n",
       "    </tr>\n",
       "    <tr>\n",
       "      <th>20</th>\n",
       "      <td>2016</td>\n",
       "      <td>Battery Electric Vehicle (BEV)</td>\n",
       "      <td>12015</td>\n",
       "    </tr>\n",
       "    <tr>\n",
       "      <th>17</th>\n",
       "      <td>2015</td>\n",
       "      <td>Battery Electric Vehicle (BEV)</td>\n",
       "      <td>13312</td>\n",
       "    </tr>\n",
       "    <tr>\n",
       "      <th>27</th>\n",
       "      <td>2019</td>\n",
       "      <td>Battery Electric Vehicle (BEV)</td>\n",
       "      <td>14249</td>\n",
       "    </tr>\n",
       "    <tr>\n",
       "      <th>29</th>\n",
       "      <td>2020</td>\n",
       "      <td>Battery Electric Vehicle (BEV)</td>\n",
       "      <td>14651</td>\n",
       "    </tr>\n",
       "    <tr>\n",
       "      <th>13</th>\n",
       "      <td>2013</td>\n",
       "      <td>Battery Electric Vehicle (BEV)</td>\n",
       "      <td>14835</td>\n",
       "    </tr>\n",
       "    <tr>\n",
       "      <th>25</th>\n",
       "      <td>2018</td>\n",
       "      <td>Battery Electric Vehicle (BEV)</td>\n",
       "      <td>15547</td>\n",
       "    </tr>\n",
       "    <tr>\n",
       "      <th>31</th>\n",
       "      <td>2021</td>\n",
       "      <td>Battery Electric Vehicle (BEV)</td>\n",
       "      <td>19520</td>\n",
       "    </tr>\n",
       "    <tr>\n",
       "      <th>33</th>\n",
       "      <td>2022</td>\n",
       "      <td>Battery Electric Vehicle (BEV)</td>\n",
       "      <td>27527</td>\n",
       "    </tr>\n",
       "    <tr>\n",
       "      <th>35</th>\n",
       "      <td>2023</td>\n",
       "      <td>Battery Electric Vehicle (BEV)</td>\n",
       "      <td>50141</td>\n",
       "    </tr>\n",
       "  </tbody>\n",
       "</table>\n",
       "</div>"
      ],
      "text/plain": [
       "    Model Year                            Vehicle Type  \\\n",
       "0         1993          Battery Electric Vehicle (BEV)   \n",
       "1         1997          Battery Electric Vehicle (BEV)   \n",
       "21        2016                Hydrogen Powered Vehicle   \n",
       "2         1998          Battery Electric Vehicle (BEV)   \n",
       "5         2003          Battery Electric Vehicle (BEV)   \n",
       "18        2015                Hydrogen Powered Vehicle   \n",
       "3         1999          Battery Electric Vehicle (BEV)   \n",
       "8         2010  Plug-in Hybrid Electric Vehicle (PHEV)   \n",
       "4         2000          Battery Electric Vehicle (BEV)   \n",
       "6         2008          Battery Electric Vehicle (BEV)   \n",
       "7         2010          Battery Electric Vehicle (BEV)   \n",
       "10        2011  Plug-in Hybrid Electric Vehicle (PHEV)   \n",
       "37        2024          Battery Electric Vehicle (BEV)   \n",
       "30        2020  Plug-in Hybrid Electric Vehicle (PHEV)   \n",
       "38        2024  Plug-in Hybrid Electric Vehicle (PHEV)   \n",
       "28        2019  Plug-in Hybrid Electric Vehicle (PHEV)   \n",
       "12        2012  Plug-in Hybrid Electric Vehicle (PHEV)   \n",
       "19        2015  Plug-in Hybrid Electric Vehicle (PHEV)   \n",
       "9         2011          Battery Electric Vehicle (BEV)   \n",
       "32        2021  Plug-in Hybrid Electric Vehicle (PHEV)   \n",
       "11        2012          Battery Electric Vehicle (BEV)   \n",
       "22        2016  Plug-in Hybrid Electric Vehicle (PHEV)   \n",
       "34        2022  Plug-in Hybrid Electric Vehicle (PHEV)   \n",
       "16        2014  Plug-in Hybrid Electric Vehicle (PHEV)   \n",
       "14        2013  Plug-in Hybrid Electric Vehicle (PHEV)   \n",
       "15        2014          Battery Electric Vehicle (BEV)   \n",
       "26        2018  Plug-in Hybrid Electric Vehicle (PHEV)   \n",
       "36        2023  Plug-in Hybrid Electric Vehicle (PHEV)   \n",
       "24        2017  Plug-in Hybrid Electric Vehicle (PHEV)   \n",
       "23        2017          Battery Electric Vehicle (BEV)   \n",
       "20        2016          Battery Electric Vehicle (BEV)   \n",
       "17        2015          Battery Electric Vehicle (BEV)   \n",
       "27        2019          Battery Electric Vehicle (BEV)   \n",
       "29        2020          Battery Electric Vehicle (BEV)   \n",
       "13        2013          Battery Electric Vehicle (BEV)   \n",
       "25        2018          Battery Electric Vehicle (BEV)   \n",
       "31        2021          Battery Electric Vehicle (BEV)   \n",
       "33        2022          Battery Electric Vehicle (BEV)   \n",
       "35        2023          Battery Electric Vehicle (BEV)   \n",
       "\n",
       "    Total number of vehicles  \n",
       "0                          1  \n",
       "1                          1  \n",
       "21                         1  \n",
       "2                          2  \n",
       "5                          2  \n",
       "18                         2  \n",
       "3                          5  \n",
       "8                         15  \n",
       "4                         24  \n",
       "6                         26  \n",
       "7                         79  \n",
       "10                       214  \n",
       "37                      1985  \n",
       "30                      2471  \n",
       "38                      3072  \n",
       "28                      3169  \n",
       "12                      3318  \n",
       "19                      3838  \n",
       "9                       3968  \n",
       "32                      4735  \n",
       "11                      4801  \n",
       "22                      4915  \n",
       "34                      5021  \n",
       "16                      5874  \n",
       "14                      6044  \n",
       "15                      6828  \n",
       "26                      7195  \n",
       "36                      7403  \n",
       "24                      8394  \n",
       "23                      9089  \n",
       "20                     12015  \n",
       "17                     13312  \n",
       "27                     14249  \n",
       "29                     14651  \n",
       "13                     14835  \n",
       "25                     15547  \n",
       "31                     19520  \n",
       "33                     27527  \n",
       "35                     50141  "
      ]
     },
     "execution_count": 198,
     "metadata": {},
     "output_type": "execute_result"
    }
   ],
   "source": [
    "counting_year"
   ]
  },
  {
   "cell_type": "code",
   "execution_count": 199,
   "id": "3594573d",
   "metadata": {},
   "outputs": [
    {
     "data": {
      "text/plain": [
       "(array([ 0,  1,  2,  3,  4,  5,  6,  7,  8,  9, 10, 11, 12, 13, 14, 15, 16,\n",
       "        17, 18, 19, 20, 21]),\n",
       " [Text(0, 0, '1993'),\n",
       "  Text(1, 0, '1997'),\n",
       "  Text(2, 0, '1998'),\n",
       "  Text(3, 0, '1999'),\n",
       "  Text(4, 0, '2000'),\n",
       "  Text(5, 0, '2003'),\n",
       "  Text(6, 0, '2008'),\n",
       "  Text(7, 0, '2010'),\n",
       "  Text(8, 0, '2011'),\n",
       "  Text(9, 0, '2012'),\n",
       "  Text(10, 0, '2013'),\n",
       "  Text(11, 0, '2014'),\n",
       "  Text(12, 0, '2015'),\n",
       "  Text(13, 0, '2016'),\n",
       "  Text(14, 0, '2017'),\n",
       "  Text(15, 0, '2018'),\n",
       "  Text(16, 0, '2019'),\n",
       "  Text(17, 0, '2020'),\n",
       "  Text(18, 0, '2021'),\n",
       "  Text(19, 0, '2022'),\n",
       "  Text(20, 0, '2023'),\n",
       "  Text(21, 0, '2024')])"
      ]
     },
     "execution_count": 199,
     "metadata": {},
     "output_type": "execute_result"
    },
    {
     "data": {
      "image/png": "[encoded data removed]",
      "text/plain": [
       "<Figure size 900x500 with 1 Axes>"
      ]
     },
     "metadata": {},
     "output_type": "display_data"
    }
   ],
   "source": [
    "fig = plt.subplots(figsize =(9, 5))\n",
    "\n",
    "sns.barplot(data=counting_year, x=\"Model Year\", y=\"Total number of vehicles\", hue=\"Vehicle Type\")\n",
    "plt.xticks(rotation = 90)"
   ]
  },
  {
   "cell_type": "code",
   "execution_count": null,
   "id": "e03c312d",
   "metadata": {},
   "outputs": [],
   "source": []
  },
  {
   "cell_type": "markdown",
   "id": "8e27b4cf",
   "metadata": {},
   "source": [
    "**Top 5 Sale Prices of BEV**"
   ]
  },
  {
   "cell_type": "code",
   "execution_count": 200,
   "id": "9e58e12c",
   "metadata": {},
   "outputs": [],
   "source": [
    "BEV_TOP_5=drop_duplicates[drop_duplicates[\"Vehicle Type\"]=='Battery Electric Vehicle (BEV)'].groupby(['Make'])['Sale Price ($)'].max().sort_values(ascending=False).head(5)"
   ]
  },
  {
   "cell_type": "code",
   "execution_count": 201,
   "id": "f1483ab2",
   "metadata": {},
   "outputs": [
    {
     "data": {
      "text/plain": [
       "Make\n",
       "NISSAN    12312016\n",
       "BMW       12292023\n",
       "TESLA     11032022\n",
       "FIAT        940325\n",
       "AUDI        864713\n",
       "Name: Sale Price ($), dtype: int64"
      ]
     },
     "execution_count": 201,
     "metadata": {},
     "output_type": "execute_result"
    }
   ],
   "source": [
    "BEV_TOP_5"
   ]
  },
  {
   "cell_type": "code",
   "execution_count": 202,
   "id": "58af9d9f",
   "metadata": {},
   "outputs": [
    {
     "data": {
      "image/png": "[encoded data removed]",
      "text/plain": [
       "<Figure size 640x480 with 1 Axes>"
      ]
     },
     "metadata": {},
     "output_type": "display_data"
    }
   ],
   "source": [
    "colors = ['darkorange', 'darkgreen', 'cornflowerblue', '#8EB897','midnightblue']\n",
    "BEV_TOP_5_fig=plt.pie(BEV_TOP_5,autopct='%1.2f%%', labels=BEV_TOP_5.index,colors=colors)"
   ]
  },
  {
   "cell_type": "markdown",
   "id": "1a67f7d2",
   "metadata": {},
   "source": [
    "**Top 5 Sale Prices of BEV**"
   ]
  },
  {
   "cell_type": "code",
   "execution_count": 203,
   "id": "56c4e4e7",
   "metadata": {},
   "outputs": [],
   "source": [
    "\n",
    "PHEV_TOP_5=drop_duplicates[drop_duplicates[\"Vehicle Type\"]=='Plug-in Hybrid Electric Vehicle (PHEV)'].groupby(['Make'])['Sale Price ($)'].max().sort_values(ascending=False).head(5)"
   ]
  },
  {
   "cell_type": "code",
   "execution_count": 204,
   "id": "ec9b9c26",
   "metadata": {},
   "outputs": [
    {
     "data": {
      "text/plain": [
       "Make\n",
       "PORSCHE     1500000\n",
       "JEEP         779995\n",
       "VOLVO        541250\n",
       "MAZDA        528065\n",
       "CADILLAC     499956\n",
       "Name: Sale Price ($), dtype: int64"
      ]
     },
     "execution_count": 204,
     "metadata": {},
     "output_type": "execute_result"
    }
   ],
   "source": [
    "PHEV_TOP_5"
   ]
  },
  {
   "cell_type": "code",
   "execution_count": 205,
   "id": "155f08f6",
   "metadata": {},
   "outputs": [
    {
     "data": {
      "image/png": "[encoded data removed]",
      "text/plain": [
       "<Figure size 640x480 with 1 Axes>"
      ]
     },
     "metadata": {},
     "output_type": "display_data"
    }
   ],
   "source": [
    "colors1 = ['orange', 'olive', 'cornflowerblue', 'tan','midnightblue']\n",
    "PHEV_TOP_5_fig=plt.pie(PHEV_TOP_5,autopct='%1.2f%%', labels=PHEV_TOP_5.index,colors=colors1)"
   ]
  },
  {
   "cell_type": "markdown",
   "id": "4424599d",
   "metadata": {},
   "source": [
    "**Primary use of Most BEV Vehicles**"
   ]
  },
  {
   "cell_type": "code",
   "execution_count": 206,
   "id": "800ac64d",
   "metadata": {},
   "outputs": [],
   "source": [
    "Primary_use_BEV = drop_duplicates[drop_duplicates[\"Vehicle Type\"]=='Battery Electric Vehicle (BEV)'].groupby([\"Vehicle Type\",\"Vehicle Primary Use\"])['County'].count()\n",
    "Primary_use_BEV = Primary_use_BEV.to_frame().reset_index()\n",
    "Primary_use_BEV = Primary_use_BEV.rename(columns = {\"County\":\"Total number of vehicles\",\"Vehicle Primary Use\":\"Primary Use\"})\n",
    "Primary_use_BEV = Primary_use_BEV.sort_values(by = \"Total number of vehicles\")"
   ]
  },
  {
   "cell_type": "code",
   "execution_count": 207,
   "id": "37b06d8a",
   "metadata": {},
   "outputs": [
    {
     "data": {
      "text/html": [
       "<div>\n",
       "<style scoped>\n",
       "    .dataframe tbody tr th:only-of-type {\n",
       "        vertical-align: middle;\n",
       "    }\n",
       "\n",
       "    .dataframe tbody tr th {\n",
       "        vertical-align: top;\n",
       "    }\n",
       "\n",
       "    .dataframe thead th {\n",
       "        text-align: right;\n",
       "    }\n",
       "</style>\n",
       "<table border=\"1\" class=\"dataframe\">\n",
       "  <thead>\n",
       "    <tr style=\"text-align: right;\">\n",
       "      <th></th>\n",
       "      <th>index</th>\n",
       "      <th>Vehicle Type</th>\n",
       "      <th>Primary Use</th>\n",
       "      <th>Total number of vehicles</th>\n",
       "    </tr>\n",
       "  </thead>\n",
       "  <tbody>\n",
       "    <tr>\n",
       "      <th>0</th>\n",
       "      <td>4</td>\n",
       "      <td>Battery Electric Vehicle (BEV)</td>\n",
       "      <td>Farm Use</td>\n",
       "      <td>1</td>\n",
       "    </tr>\n",
       "    <tr>\n",
       "      <th>1</th>\n",
       "      <td>3</td>\n",
       "      <td>Battery Electric Vehicle (BEV)</td>\n",
       "      <td>Farm Exempt</td>\n",
       "      <td>3</td>\n",
       "    </tr>\n",
       "    <tr>\n",
       "      <th>2</th>\n",
       "      <td>0</td>\n",
       "      <td>Battery Electric Vehicle (BEV)</td>\n",
       "      <td>Cab</td>\n",
       "      <td>4</td>\n",
       "    </tr>\n",
       "    <tr>\n",
       "      <th>3</th>\n",
       "      <td>7</td>\n",
       "      <td>Battery Electric Vehicle (BEV)</td>\n",
       "      <td>Neighborhood Electric Vehicle</td>\n",
       "      <td>7</td>\n",
       "    </tr>\n",
       "    <tr>\n",
       "      <th>4</th>\n",
       "      <td>6</td>\n",
       "      <td>Battery Electric Vehicle (BEV)</td>\n",
       "      <td>Medium-Speed Electric Vehicle</td>\n",
       "      <td>19</td>\n",
       "    </tr>\n",
       "    <tr>\n",
       "      <th>5</th>\n",
       "      <td>5</td>\n",
       "      <td>Battery Electric Vehicle (BEV)</td>\n",
       "      <td>For Hire</td>\n",
       "      <td>44</td>\n",
       "    </tr>\n",
       "    <tr>\n",
       "      <th>6</th>\n",
       "      <td>1</td>\n",
       "      <td>Battery Electric Vehicle (BEV)</td>\n",
       "      <td>Commercial</td>\n",
       "      <td>1259</td>\n",
       "    </tr>\n",
       "    <tr>\n",
       "      <th>7</th>\n",
       "      <td>2</td>\n",
       "      <td>Battery Electric Vehicle (BEV)</td>\n",
       "      <td>Exempt (State/County/Local/Tribal)</td>\n",
       "      <td>2075</td>\n",
       "    </tr>\n",
       "    <tr>\n",
       "      <th>8</th>\n",
       "      <td>9</td>\n",
       "      <td>Battery Electric Vehicle (BEV)</td>\n",
       "      <td>Truck</td>\n",
       "      <td>2891</td>\n",
       "    </tr>\n",
       "    <tr>\n",
       "      <th>9</th>\n",
       "      <td>8</td>\n",
       "      <td>Battery Electric Vehicle (BEV)</td>\n",
       "      <td>Passenger</td>\n",
       "      <td>202305</td>\n",
       "    </tr>\n",
       "  </tbody>\n",
       "</table>\n",
       "</div>"
      ],
      "text/plain": [
       "   index                    Vehicle Type                         Primary Use  \\\n",
       "0      4  Battery Electric Vehicle (BEV)                            Farm Use   \n",
       "1      3  Battery Electric Vehicle (BEV)                         Farm Exempt   \n",
       "2      0  Battery Electric Vehicle (BEV)                                 Cab   \n",
       "3      7  Battery Electric Vehicle (BEV)       Neighborhood Electric Vehicle   \n",
       "4      6  Battery Electric Vehicle (BEV)       Medium-Speed Electric Vehicle   \n",
       "5      5  Battery Electric Vehicle (BEV)                            For Hire   \n",
       "6      1  Battery Electric Vehicle (BEV)                          Commercial   \n",
       "7      2  Battery Electric Vehicle (BEV)  Exempt (State/County/Local/Tribal)   \n",
       "8      9  Battery Electric Vehicle (BEV)                               Truck   \n",
       "9      8  Battery Electric Vehicle (BEV)                           Passenger   \n",
       "\n",
       "   Total number of vehicles  \n",
       "0                         1  \n",
       "1                         3  \n",
       "2                         4  \n",
       "3                         7  \n",
       "4                        19  \n",
       "5                        44  \n",
       "6                      1259  \n",
       "7                      2075  \n",
       "8                      2891  \n",
       "9                    202305  "
      ]
     },
     "execution_count": 207,
     "metadata": {},
     "output_type": "execute_result"
    }
   ],
   "source": [
    "Primary_use_BEV.reset_index()"
   ]
  },
  {
   "cell_type": "code",
   "execution_count": null,
   "id": "043f32ab",
   "metadata": {},
   "outputs": [],
   "source": []
  },
  {
   "cell_type": "markdown",
   "id": "0c6afe87",
   "metadata": {},
   "source": [
    "**Primary use of Most PHEV Vehicles**"
   ]
  },
  {
   "cell_type": "code",
   "execution_count": 208,
   "id": "b108212f",
   "metadata": {},
   "outputs": [],
   "source": [
    "Primary_use_PHEV = drop_duplicates[drop_duplicates[\"Vehicle Type\"]=='Plug-in Hybrid Electric Vehicle (PHEV)'].groupby([\"Vehicle Type\",\"Vehicle Primary Use\"])['County'].count()\n",
    "Primary_use_PHEV = Primary_use_PHEV.to_frame().reset_index()\n",
    "Primary_use_PHEV = Primary_use_PHEV.rename(columns = {\"County\":\"Total number of vehicles\",\"Vehicle Primary Use\":\"Primary Use\"})\n",
    "Primary_use_PHEV = Primary_use_PHEV.sort_values(by = \"Total number of vehicles\")"
   ]
  },
  {
   "cell_type": "code",
   "execution_count": 209,
   "id": "fc570d89",
   "metadata": {},
   "outputs": [
    {
     "data": {
      "text/html": [
       "<div>\n",
       "<style scoped>\n",
       "    .dataframe tbody tr th:only-of-type {\n",
       "        vertical-align: middle;\n",
       "    }\n",
       "\n",
       "    .dataframe tbody tr th {\n",
       "        vertical-align: top;\n",
       "    }\n",
       "\n",
       "    .dataframe thead th {\n",
       "        text-align: right;\n",
       "    }\n",
       "</style>\n",
       "<table border=\"1\" class=\"dataframe\">\n",
       "  <thead>\n",
       "    <tr style=\"text-align: right;\">\n",
       "      <th></th>\n",
       "      <th>Vehicle Type</th>\n",
       "      <th>Primary Use</th>\n",
       "      <th>Total number of vehicles</th>\n",
       "    </tr>\n",
       "  </thead>\n",
       "  <tbody>\n",
       "    <tr>\n",
       "      <th>7</th>\n",
       "      <td>Plug-in Hybrid Electric Vehicle (PHEV)</td>\n",
       "      <td>Private School</td>\n",
       "      <td>1</td>\n",
       "    </tr>\n",
       "    <tr>\n",
       "      <th>0</th>\n",
       "      <td>Plug-in Hybrid Electric Vehicle (PHEV)</td>\n",
       "      <td>Cab</td>\n",
       "      <td>2</td>\n",
       "    </tr>\n",
       "    <tr>\n",
       "      <th>8</th>\n",
       "      <td>Plug-in Hybrid Electric Vehicle (PHEV)</td>\n",
       "      <td>Taxi Cab</td>\n",
       "      <td>2</td>\n",
       "    </tr>\n",
       "    <tr>\n",
       "      <th>5</th>\n",
       "      <td>Plug-in Hybrid Electric Vehicle (PHEV)</td>\n",
       "      <td>Neighborhood Electric Vehicle</td>\n",
       "      <td>4</td>\n",
       "    </tr>\n",
       "    <tr>\n",
       "      <th>9</th>\n",
       "      <td>Plug-in Hybrid Electric Vehicle (PHEV)</td>\n",
       "      <td>Truck</td>\n",
       "      <td>5</td>\n",
       "    </tr>\n",
       "    <tr>\n",
       "      <th>4</th>\n",
       "      <td>Plug-in Hybrid Electric Vehicle (PHEV)</td>\n",
       "      <td>Medium-Speed Electric Vehicle</td>\n",
       "      <td>13</td>\n",
       "    </tr>\n",
       "    <tr>\n",
       "      <th>3</th>\n",
       "      <td>Plug-in Hybrid Electric Vehicle (PHEV)</td>\n",
       "      <td>For Hire</td>\n",
       "      <td>30</td>\n",
       "    </tr>\n",
       "    <tr>\n",
       "      <th>1</th>\n",
       "      <td>Plug-in Hybrid Electric Vehicle (PHEV)</td>\n",
       "      <td>Commercial</td>\n",
       "      <td>102</td>\n",
       "    </tr>\n",
       "    <tr>\n",
       "      <th>2</th>\n",
       "      <td>Plug-in Hybrid Electric Vehicle (PHEV)</td>\n",
       "      <td>Exempt (State/County/Local/Tribal)</td>\n",
       "      <td>732</td>\n",
       "    </tr>\n",
       "    <tr>\n",
       "      <th>6</th>\n",
       "      <td>Plug-in Hybrid Electric Vehicle (PHEV)</td>\n",
       "      <td>Passenger</td>\n",
       "      <td>64787</td>\n",
       "    </tr>\n",
       "  </tbody>\n",
       "</table>\n",
       "</div>"
      ],
      "text/plain": [
       "                             Vehicle Type                         Primary Use  \\\n",
       "7  Plug-in Hybrid Electric Vehicle (PHEV)                      Private School   \n",
       "0  Plug-in Hybrid Electric Vehicle (PHEV)                                 Cab   \n",
       "8  Plug-in Hybrid Electric Vehicle (PHEV)                            Taxi Cab   \n",
       "5  Plug-in Hybrid Electric Vehicle (PHEV)       Neighborhood Electric Vehicle   \n",
       "9  Plug-in Hybrid Electric Vehicle (PHEV)                               Truck   \n",
       "4  Plug-in Hybrid Electric Vehicle (PHEV)       Medium-Speed Electric Vehicle   \n",
       "3  Plug-in Hybrid Electric Vehicle (PHEV)                            For Hire   \n",
       "1  Plug-in Hybrid Electric Vehicle (PHEV)                          Commercial   \n",
       "2  Plug-in Hybrid Electric Vehicle (PHEV)  Exempt (State/County/Local/Tribal)   \n",
       "6  Plug-in Hybrid Electric Vehicle (PHEV)                           Passenger   \n",
       "\n",
       "   Total number of vehicles  \n",
       "7                         1  \n",
       "0                         2  \n",
       "8                         2  \n",
       "5                         4  \n",
       "9                         5  \n",
       "4                        13  \n",
       "3                        30  \n",
       "1                       102  \n",
       "2                       732  \n",
       "6                     64787  "
      ]
     },
     "execution_count": 209,
     "metadata": {},
     "output_type": "execute_result"
    }
   ],
   "source": [
    "Primary_use_PHEV"
   ]
  },
  {
   "cell_type": "markdown",
   "id": "3a4422ad",
   "metadata": {},
   "source": [
    "**Average Sale Prices**"
   ]
  },
  {
   "cell_type": "code",
   "execution_count": 210,
   "id": "f6c52c1e",
   "metadata": {},
   "outputs": [],
   "source": [
    "Sale_price=drop_duplicates.groupby(['Make'])['Sale Price ($)'].mean().sort_values(ascending=False)"
   ]
  },
  {
   "cell_type": "code",
   "execution_count": 211,
   "id": "1f67122a",
   "metadata": {},
   "outputs": [
    {
     "name": "stderr",
     "output_type": "stream",
     "text": [
      "C:\\Users\\Neha Koli\\AppData\\Local\\Temp\\ipykernel_5356\\3668581678.py:1: FutureWarning: \n",
      "\n",
      "`shade` is now deprecated in favor of `fill`; setting `fill=True`.\n",
      "This will become an error in seaborn v0.14.0; please update your code.\n",
      "\n",
      "  sns.kdeplot(Sale_price, shade=True)\n"
     ]
    },
    {
     "data": {
      "image/png": "[encoded data removed]",
      "text/plain": [
       "<Figure size 640x480 with 1 Axes>"
      ]
     },
     "metadata": {},
     "output_type": "display_data"
    }
   ],
   "source": [
    "sns.kdeplot(Sale_price, shade=True)\n",
    "plt.title(\"Average Sale price\")\n",
    "plt.show()"
   ]
  },
  {
   "cell_type": "code",
   "execution_count": 212,
   "id": "dd5c247c",
   "metadata": {},
   "outputs": [
    {
     "data": {
      "text/plain": [
       "Index(['Vehicle Type', 'VIN (1-10)', 'DOL Vehicle ID', 'Model Year', 'Make',\n",
       "       'Model', 'Vehicle Primary Use', 'Electric Range', 'Odometer Reading',\n",
       "       'New or Used Vehicle', 'Sale Price ($)', 'Sale Date', 'Base MSRP',\n",
       "       'Transaction Type', 'DOL Transaction Date', 'Transaction Year',\n",
       "       'County', 'City', 'State of Residence', 'Postal Code',\n",
       "       'Meets 2019 HB 2042 Sale Price/Value Requirement',\n",
       "       '2019 HB 2042: Sale Price/Value Requirement',\n",
       "       'Electric Vehicle Fee Paid', '2020 Census Tract'],\n",
       "      dtype='object')"
      ]
     },
     "execution_count": 212,
     "metadata": {},
     "output_type": "execute_result"
    }
   ],
   "source": [
    "drop_duplicates.columns"
   ]
  },
  {
   "cell_type": "code",
   "execution_count": null,
   "id": "dd8d768e",
   "metadata": {},
   "outputs": [],
   "source": []
  },
  {
   "cell_type": "code",
   "execution_count": null,
   "id": "4d860f50",
   "metadata": {},
   "outputs": [],
   "source": []
  },
  {
   "cell_type": "code",
   "execution_count": null,
   "id": "aa5eff70",
   "metadata": {},
   "outputs": [],
   "source": []
  },
  {
   "cell_type": "markdown",
   "id": "ec19fc14",
   "metadata": {},
   "source": [
    "**Logistic Regression**"
   ]
  },
  {
   "cell_type": "code",
   "execution_count": 213,
   "id": "0e2fd793",
   "metadata": {},
   "outputs": [
    {
     "data": {
      "text/plain": [
       "<Axes: >"
      ]
     },
     "execution_count": 213,
     "metadata": {},
     "output_type": "execute_result"
    },
    {
     "data": {
      "image/png": "[encoded data removed]",
      "text/plain": [
       "<Figure size 640x480 with 1 Axes>"
      ]
     },
     "metadata": {},
     "output_type": "display_data"
    }
   ],
   "source": [
    "sns.heatmap(drop_duplicates.isnull(),yticklabels=False,cbar=False,cmap='viridis')"
   ]
  },
  {
   "cell_type": "code",
   "execution_count": 214,
   "id": "996817bd",
   "metadata": {},
   "outputs": [
    {
     "data": {
      "text/plain": [
       "Index(['Vehicle Type', 'VIN (1-10)', 'DOL Vehicle ID', 'Model Year', 'Make',\n",
       "       'Model', 'Vehicle Primary Use', 'Electric Range', 'Odometer Reading',\n",
       "       'New or Used Vehicle', 'Sale Price ($)', 'Sale Date', 'Base MSRP',\n",
       "       'Transaction Type', 'DOL Transaction Date', 'Transaction Year',\n",
       "       'County', 'City', 'State of Residence', 'Postal Code',\n",
       "       'Meets 2019 HB 2042 Sale Price/Value Requirement',\n",
       "       '2019 HB 2042: Sale Price/Value Requirement',\n",
       "       'Electric Vehicle Fee Paid', '2020 Census Tract'],\n",
       "      dtype='object')"
      ]
     },
     "execution_count": 214,
     "metadata": {},
     "output_type": "execute_result"
    }
   ],
   "source": [
    "drop_duplicates.columns"
   ]
  },
  {
   "cell_type": "code",
   "execution_count": 215,
   "id": "465fe49a",
   "metadata": {},
   "outputs": [],
   "source": [
    "x = drop_duplicates[['Vehicle Type','Odometer Reading','Electric Range','Base MSRP']] #Independent\n",
    "y = drop_duplicates['New or Used Vehicle'] # dependent"
   ]
  },
  {
   "cell_type": "code",
   "execution_count": 216,
   "id": "f89ef1ce",
   "metadata": {},
   "outputs": [
    {
     "data": {
      "text/html": [
       "<div>\n",
       "<style scoped>\n",
       "    .dataframe tbody tr th:only-of-type {\n",
       "        vertical-align: middle;\n",
       "    }\n",
       "\n",
       "    .dataframe tbody tr th {\n",
       "        vertical-align: top;\n",
       "    }\n",
       "\n",
       "    .dataframe thead th {\n",
       "        text-align: right;\n",
       "    }\n",
       "</style>\n",
       "<table border=\"1\" class=\"dataframe\">\n",
       "  <thead>\n",
       "    <tr style=\"text-align: right;\">\n",
       "      <th></th>\n",
       "      <th>Vehicle Type</th>\n",
       "      <th>Odometer Reading</th>\n",
       "      <th>Electric Range</th>\n",
       "      <th>Base MSRP</th>\n",
       "    </tr>\n",
       "  </thead>\n",
       "  <tbody>\n",
       "    <tr>\n",
       "      <th>0</th>\n",
       "      <td>Plug-in Hybrid Electric Vehicle (PHEV)</td>\n",
       "      <td>10</td>\n",
       "      <td>20.0</td>\n",
       "      <td>0.0</td>\n",
       "    </tr>\n",
       "    <tr>\n",
       "      <th>1</th>\n",
       "      <td>Battery Electric Vehicle (BEV)</td>\n",
       "      <td>10</td>\n",
       "      <td>259.0</td>\n",
       "      <td>0.0</td>\n",
       "    </tr>\n",
       "    <tr>\n",
       "      <th>2</th>\n",
       "      <td>Plug-in Hybrid Electric Vehicle (PHEV)</td>\n",
       "      <td>225</td>\n",
       "      <td>25.0</td>\n",
       "      <td>0.0</td>\n",
       "    </tr>\n",
       "    <tr>\n",
       "      <th>3</th>\n",
       "      <td>Battery Electric Vehicle (BEV)</td>\n",
       "      <td>15</td>\n",
       "      <td>0.0</td>\n",
       "      <td>0.0</td>\n",
       "    </tr>\n",
       "    <tr>\n",
       "      <th>4</th>\n",
       "      <td>Battery Electric Vehicle (BEV)</td>\n",
       "      <td>15</td>\n",
       "      <td>0.0</td>\n",
       "      <td>0.0</td>\n",
       "    </tr>\n",
       "    <tr>\n",
       "      <th>...</th>\n",
       "      <td>...</td>\n",
       "      <td>...</td>\n",
       "      <td>...</td>\n",
       "      <td>...</td>\n",
       "    </tr>\n",
       "    <tr>\n",
       "      <th>274284</th>\n",
       "      <td>Battery Electric Vehicle (BEV)</td>\n",
       "      <td>5</td>\n",
       "      <td>0.0</td>\n",
       "      <td>0.0</td>\n",
       "    </tr>\n",
       "    <tr>\n",
       "      <th>274285</th>\n",
       "      <td>Battery Electric Vehicle (BEV)</td>\n",
       "      <td>5</td>\n",
       "      <td>0.0</td>\n",
       "      <td>0.0</td>\n",
       "    </tr>\n",
       "    <tr>\n",
       "      <th>274286</th>\n",
       "      <td>Battery Electric Vehicle (BEV)</td>\n",
       "      <td>15</td>\n",
       "      <td>0.0</td>\n",
       "      <td>0.0</td>\n",
       "    </tr>\n",
       "    <tr>\n",
       "      <th>274287</th>\n",
       "      <td>Plug-in Hybrid Electric Vehicle (PHEV)</td>\n",
       "      <td>61902</td>\n",
       "      <td>53.0</td>\n",
       "      <td>0.0</td>\n",
       "    </tr>\n",
       "    <tr>\n",
       "      <th>274288</th>\n",
       "      <td>Battery Electric Vehicle (BEV)</td>\n",
       "      <td>100</td>\n",
       "      <td>0.0</td>\n",
       "      <td>0.0</td>\n",
       "    </tr>\n",
       "  </tbody>\n",
       "</table>\n",
       "<p>274289 rows × 4 columns</p>\n",
       "</div>"
      ],
      "text/plain": [
       "                                  Vehicle Type  Odometer Reading  \\\n",
       "0       Plug-in Hybrid Electric Vehicle (PHEV)                10   \n",
       "1               Battery Electric Vehicle (BEV)                10   \n",
       "2       Plug-in Hybrid Electric Vehicle (PHEV)               225   \n",
       "3               Battery Electric Vehicle (BEV)                15   \n",
       "4               Battery Electric Vehicle (BEV)                15   \n",
       "...                                        ...               ...   \n",
       "274284          Battery Electric Vehicle (BEV)                 5   \n",
       "274285          Battery Electric Vehicle (BEV)                 5   \n",
       "274286          Battery Electric Vehicle (BEV)                15   \n",
       "274287  Plug-in Hybrid Electric Vehicle (PHEV)             61902   \n",
       "274288          Battery Electric Vehicle (BEV)               100   \n",
       "\n",
       "        Electric Range  Base MSRP  \n",
       "0                 20.0        0.0  \n",
       "1                259.0        0.0  \n",
       "2                 25.0        0.0  \n",
       "3                  0.0        0.0  \n",
       "4                  0.0        0.0  \n",
       "...                ...        ...  \n",
       "274284             0.0        0.0  \n",
       "274285             0.0        0.0  \n",
       "274286             0.0        0.0  \n",
       "274287            53.0        0.0  \n",
       "274288             0.0        0.0  \n",
       "\n",
       "[274289 rows x 4 columns]"
      ]
     },
     "execution_count": 216,
     "metadata": {},
     "output_type": "execute_result"
    }
   ],
   "source": [
    "x"
   ]
  },
  {
   "cell_type": "code",
   "execution_count": 217,
   "id": "8c3af548",
   "metadata": {},
   "outputs": [],
   "source": [
    "from sklearn.preprocessing import LabelEncoder"
   ]
  },
  {
   "cell_type": "code",
   "execution_count": 218,
   "id": "69e4da51",
   "metadata": {},
   "outputs": [],
   "source": [
    "le = LabelEncoder()"
   ]
  },
  {
   "cell_type": "code",
   "execution_count": 219,
   "id": "b47c388e",
   "metadata": {},
   "outputs": [
    {
     "data": {
      "text/plain": [
       "Index(['Vehicle Type', 'Odometer Reading', 'Electric Range', 'Base MSRP'], dtype='object')"
      ]
     },
     "execution_count": 219,
     "metadata": {},
     "output_type": "execute_result"
    }
   ],
   "source": [
    "x.columns"
   ]
  },
  {
   "cell_type": "code",
   "execution_count": 220,
   "id": "9a0d5a8f",
   "metadata": {},
   "outputs": [],
   "source": [
    "catcol = x.select_dtypes(object)"
   ]
  },
  {
   "cell_type": "code",
   "execution_count": 245,
   "id": "45540e8b",
   "metadata": {},
   "outputs": [
    {
     "name": "stderr",
     "output_type": "stream",
     "text": [
      "C:\\Users\\Neha Koli\\AppData\\Local\\Temp\\ipykernel_5356\\155704800.py:2: SettingWithCopyWarning: \n",
      "A value is trying to be set on a copy of a slice from a DataFrame.\n",
      "Try using .loc[row_indexer,col_indexer] = value instead\n",
      "\n",
      "See the caveats in the documentation: https://pandas.pydata.org/pandas-docs/stable/user_guide/indexing.html#returning-a-view-versus-a-copy\n",
      "  x[item] = le.fit_transform(x[item])\n"
     ]
    }
   ],
   "source": [
    "for item in catcol:\n",
    "    x[item] = le.fit_transform(x[item])"
   ]
  },
  {
   "cell_type": "code",
   "execution_count": null,
   "id": "a89f86e3",
   "metadata": {},
   "outputs": [],
   "source": []
  },
  {
   "cell_type": "code",
   "execution_count": 223,
   "id": "70d71651",
   "metadata": {},
   "outputs": [
    {
     "name": "stdout",
     "output_type": "stream",
     "text": [
      "<class 'pandas.core.frame.DataFrame'>\n",
      "RangeIndex: 274289 entries, 0 to 274288\n",
      "Data columns (total 4 columns):\n",
      " #   Column            Non-Null Count   Dtype  \n",
      "---  ------            --------------   -----  \n",
      " 0   Vehicle Type      274289 non-null  int32  \n",
      " 1   Odometer Reading  274289 non-null  int64  \n",
      " 2   Electric Range    274289 non-null  float64\n",
      " 3   Base MSRP         274289 non-null  float64\n",
      "dtypes: float64(2), int32(1), int64(1)\n",
      "memory usage: 7.3 MB\n"
     ]
    }
   ],
   "source": [
    "x.info()"
   ]
  },
  {
   "cell_type": "code",
   "execution_count": 224,
   "id": "853b296a",
   "metadata": {},
   "outputs": [
    {
     "data": {
      "text/plain": [
       "0          New\n",
       "1          New\n",
       "2          New\n",
       "3          New\n",
       "4          New\n",
       "          ... \n",
       "274284     New\n",
       "274285     New\n",
       "274286     New\n",
       "274287    Used\n",
       "274288     New\n",
       "Name: New or Used Vehicle, Length: 274289, dtype: object"
      ]
     },
     "execution_count": 224,
     "metadata": {},
     "output_type": "execute_result"
    }
   ],
   "source": [
    "y"
   ]
  },
  {
   "cell_type": "code",
   "execution_count": 225,
   "id": "afc123b6",
   "metadata": {},
   "outputs": [],
   "source": [
    "from sklearn.model_selection import train_test_split"
   ]
  },
  {
   "cell_type": "code",
   "execution_count": 241,
   "id": "9a5d93f4",
   "metadata": {},
   "outputs": [],
   "source": [
    "xtrain,xtest,ytrain,ytest = train_test_split(x,y,test_size=0.3,random_state=1)"
   ]
  },
  {
   "cell_type": "code",
   "execution_count": null,
   "id": "185fdf91",
   "metadata": {},
   "outputs": [],
   "source": []
  },
  {
   "cell_type": "code",
   "execution_count": 227,
   "id": "46f962d1",
   "metadata": {},
   "outputs": [],
   "source": [
    "from sklearn.linear_model import LogisticRegression"
   ]
  },
  {
   "cell_type": "code",
   "execution_count": 228,
   "id": "a998528c",
   "metadata": {},
   "outputs": [],
   "source": [
    "logreg = LogisticRegression()"
   ]
  },
  {
   "cell_type": "code",
   "execution_count": 229,
   "id": "dcd7b498",
   "metadata": {},
   "outputs": [
    {
     "data": {
      "text/html": [
       "<style>#sk-container-id-3 {color: black;}#sk-container-id-3 pre{padding: 0;}#sk-container-id-3 div.sk-toggleable {background-color: white;}#sk-container-id-3 label.sk-toggleable__label {cursor: pointer;display: block;width: 100%;margin-bottom: 0;padding: 0.3em;box-sizing: border-box;text-align: center;}#sk-container-id-3 label.sk-toggleable__label-arrow:before {content: \"▸\";float: left;margin-right: 0.25em;color: #696969;}#sk-container-id-3 label.sk-toggleable__label-arrow:hover:before {color: black;}#sk-container-id-3 div.sk-estimator:hover label.sk-toggleable__label-arrow:before {color: black;}#sk-container-id-3 div.sk-toggleable__content {max-height: 0;max-width: 0;overflow: hidden;text-align: left;background-color: #f0f8ff;}#sk-container-id-3 div.sk-toggleable__content pre {margin: 0.2em;color: black;border-radius: 0.25em;background-color: #f0f8ff;}#sk-container-id-3 input.sk-toggleable__control:checked~div.sk-toggleable__content {max-height: 200px;max-width: 100%;overflow: auto;}#sk-container-id-3 input.sk-toggleable__control:checked~label.sk-toggleable__label-arrow:before {content: \"▾\";}#sk-container-id-3 div.sk-estimator input.sk-toggleable__control:checked~label.sk-toggleable__label {background-color: #d4ebff;}#sk-container-id-3 div.sk-label input.sk-toggleable__control:checked~label.sk-toggleable__label {background-color: #d4ebff;}#sk-container-id-3 input.sk-hidden--visually {border: 0;clip: rect(1px 1px 1px 1px);clip: rect(1px, 1px, 1px, 1px);height: 1px;margin: -1px;overflow: hidden;padding: 0;position: absolute;width: 1px;}#sk-container-id-3 div.sk-estimator {font-family: monospace;background-color: #f0f8ff;border: 1px dotted black;border-radius: 0.25em;box-sizing: border-box;margin-bottom: 0.5em;}#sk-container-id-3 div.sk-estimator:hover {background-color: #d4ebff;}#sk-container-id-3 div.sk-parallel-item::after {content: \"\";width: 100%;border-bottom: 1px solid gray;flex-grow: 1;}#sk-container-id-3 div.sk-label:hover label.sk-toggleable__label {background-color: #d4ebff;}#sk-container-id-3 div.sk-serial::before {content: \"\";position: absolute;border-left: 1px solid gray;box-sizing: border-box;top: 0;bottom: 0;left: 50%;z-index: 0;}#sk-container-id-3 div.sk-serial {display: flex;flex-direction: column;align-items: center;background-color: white;padding-right: 0.2em;padding-left: 0.2em;position: relative;}#sk-container-id-3 div.sk-item {position: relative;z-index: 1;}#sk-container-id-3 div.sk-parallel {display: flex;align-items: stretch;justify-content: center;background-color: white;position: relative;}#sk-container-id-3 div.sk-item::before, #sk-container-id-3 div.sk-parallel-item::before {content: \"\";position: absolute;border-left: 1px solid gray;box-sizing: border-box;top: 0;bottom: 0;left: 50%;z-index: -1;}#sk-container-id-3 div.sk-parallel-item {display: flex;flex-direction: column;z-index: 1;position: relative;background-color: white;}#sk-container-id-3 div.sk-parallel-item:first-child::after {align-self: flex-end;width: 50%;}#sk-container-id-3 div.sk-parallel-item:last-child::after {align-self: flex-start;width: 50%;}#sk-container-id-3 div.sk-parallel-item:only-child::after {width: 0;}#sk-container-id-3 div.sk-dashed-wrapped {border: 1px dashed gray;margin: 0 0.4em 0.5em 0.4em;box-sizing: border-box;padding-bottom: 0.4em;background-color: white;}#sk-container-id-3 div.sk-label label {font-family: monospace;font-weight: bold;display: inline-block;line-height: 1.2em;}#sk-container-id-3 div.sk-label-container {text-align: center;}#sk-container-id-3 div.sk-container {/* jupyter's `normalize.less` sets `[hidden] { display: none; }` but bootstrap.min.css set `[hidden] { display: none !important; }` so we also need the `!important` here to be able to override the default hidden behavior on the sphinx rendered scikit-learn.org. See: https://github.com/scikit-learn/scikit-learn/issues/21755 */display: inline-block !important;position: relative;}#sk-container-id-3 div.sk-text-repr-fallback {display: none;}</style><div id=\"sk-container-id-3\" class=\"sk-top-container\"><div class=\"sk-text-repr-fallback\"><pre>LogisticRegression()</pre><b>In a Jupyter environment, please rerun this cell to show the HTML representation or trust the notebook. <br />On GitHub, the HTML representation is unable to render, please try loading this page with nbviewer.org.</b></div><div class=\"sk-container\" hidden><div class=\"sk-item\"><div class=\"sk-estimator sk-toggleable\"><input class=\"sk-toggleable__control sk-hidden--visually\" id=\"sk-estimator-id-3\" type=\"checkbox\" checked><label for=\"sk-estimator-id-3\" class=\"sk-toggleable__label sk-toggleable__label-arrow\">LogisticRegression</label><div class=\"sk-toggleable__content\"><pre>LogisticRegression()</pre></div></div></div></div></div>"
      ],
      "text/plain": [
       "LogisticRegression()"
      ]
     },
     "execution_count": 229,
     "metadata": {},
     "output_type": "execute_result"
    }
   ],
   "source": [
    "logreg.fit(xtrain,ytrain)"
   ]
  },
  {
   "cell_type": "code",
   "execution_count": 230,
   "id": "1570aa67",
   "metadata": {},
   "outputs": [
    {
     "data": {
      "text/html": [
       "<div>\n",
       "<style scoped>\n",
       "    .dataframe tbody tr th:only-of-type {\n",
       "        vertical-align: middle;\n",
       "    }\n",
       "\n",
       "    .dataframe tbody tr th {\n",
       "        vertical-align: top;\n",
       "    }\n",
       "\n",
       "    .dataframe thead th {\n",
       "        text-align: right;\n",
       "    }\n",
       "</style>\n",
       "<table border=\"1\" class=\"dataframe\">\n",
       "  <thead>\n",
       "    <tr style=\"text-align: right;\">\n",
       "      <th></th>\n",
       "      <th>Vehicle Type</th>\n",
       "      <th>Odometer Reading</th>\n",
       "      <th>Electric Range</th>\n",
       "      <th>Base MSRP</th>\n",
       "    </tr>\n",
       "  </thead>\n",
       "  <tbody>\n",
       "    <tr>\n",
       "      <th>26290</th>\n",
       "      <td>0</td>\n",
       "      <td>5</td>\n",
       "      <td>0.0</td>\n",
       "      <td>0.0</td>\n",
       "    </tr>\n",
       "    <tr>\n",
       "      <th>71916</th>\n",
       "      <td>0</td>\n",
       "      <td>25125</td>\n",
       "      <td>84.0</td>\n",
       "      <td>0.0</td>\n",
       "    </tr>\n",
       "    <tr>\n",
       "      <th>86740</th>\n",
       "      <td>0</td>\n",
       "      <td>6</td>\n",
       "      <td>150.0</td>\n",
       "      <td>0.0</td>\n",
       "    </tr>\n",
       "    <tr>\n",
       "      <th>190796</th>\n",
       "      <td>0</td>\n",
       "      <td>34052</td>\n",
       "      <td>200.0</td>\n",
       "      <td>0.0</td>\n",
       "    </tr>\n",
       "    <tr>\n",
       "      <th>129096</th>\n",
       "      <td>0</td>\n",
       "      <td>11</td>\n",
       "      <td>0.0</td>\n",
       "      <td>0.0</td>\n",
       "    </tr>\n",
       "    <tr>\n",
       "      <th>...</th>\n",
       "      <td>...</td>\n",
       "      <td>...</td>\n",
       "      <td>...</td>\n",
       "      <td>...</td>\n",
       "    </tr>\n",
       "    <tr>\n",
       "      <th>14630</th>\n",
       "      <td>0</td>\n",
       "      <td>15</td>\n",
       "      <td>291.0</td>\n",
       "      <td>0.0</td>\n",
       "    </tr>\n",
       "    <tr>\n",
       "      <th>65637</th>\n",
       "      <td>0</td>\n",
       "      <td>50</td>\n",
       "      <td>200.0</td>\n",
       "      <td>0.0</td>\n",
       "    </tr>\n",
       "    <tr>\n",
       "      <th>30059</th>\n",
       "      <td>2</td>\n",
       "      <td>5</td>\n",
       "      <td>25.0</td>\n",
       "      <td>0.0</td>\n",
       "    </tr>\n",
       "    <tr>\n",
       "      <th>26784</th>\n",
       "      <td>0</td>\n",
       "      <td>50</td>\n",
       "      <td>208.0</td>\n",
       "      <td>69900.0</td>\n",
       "    </tr>\n",
       "    <tr>\n",
       "      <th>196845</th>\n",
       "      <td>0</td>\n",
       "      <td>387</td>\n",
       "      <td>81.0</td>\n",
       "      <td>0.0</td>\n",
       "    </tr>\n",
       "  </tbody>\n",
       "</table>\n",
       "<p>82287 rows × 4 columns</p>\n",
       "</div>"
      ],
      "text/plain": [
       "        Vehicle Type  Odometer Reading  Electric Range  Base MSRP\n",
       "26290              0                 5             0.0        0.0\n",
       "71916              0             25125            84.0        0.0\n",
       "86740              0                 6           150.0        0.0\n",
       "190796             0             34052           200.0        0.0\n",
       "129096             0                11             0.0        0.0\n",
       "...              ...               ...             ...        ...\n",
       "14630              0                15           291.0        0.0\n",
       "65637              0                50           200.0        0.0\n",
       "30059              2                 5            25.0        0.0\n",
       "26784              0                50           208.0    69900.0\n",
       "196845             0               387            81.0        0.0\n",
       "\n",
       "[82287 rows x 4 columns]"
      ]
     },
     "execution_count": 230,
     "metadata": {},
     "output_type": "execute_result"
    }
   ],
   "source": [
    "xtest"
   ]
  },
  {
   "cell_type": "code",
   "execution_count": 231,
   "id": "1751dc51",
   "metadata": {},
   "outputs": [],
   "source": [
    "ypred = logreg.predict(xtest)"
   ]
  },
  {
   "cell_type": "code",
   "execution_count": 232,
   "id": "2315ec85",
   "metadata": {},
   "outputs": [
    {
     "data": {
      "text/plain": [
       "array(['New', 'Used', 'New', ..., 'New', 'New', 'New'], dtype=object)"
      ]
     },
     "execution_count": 232,
     "metadata": {},
     "output_type": "execute_result"
    }
   ],
   "source": [
    "ypred"
   ]
  },
  {
   "cell_type": "code",
   "execution_count": 233,
   "id": "89bc2b38",
   "metadata": {},
   "outputs": [],
   "source": [
    "from sklearn.metrics import accuracy_score,confusion_matrix,classification_report"
   ]
  },
  {
   "cell_type": "code",
   "execution_count": 234,
   "id": "043f392b",
   "metadata": {},
   "outputs": [
    {
     "name": "stdout",
     "output_type": "stream",
     "text": [
      "Accuracy Score 0.9804343334913169\n",
      "Confusion Matrix is [[57690   230]\n",
      " [ 1380 22987]]\n"
     ]
    }
   ],
   "source": [
    "ac = accuracy_score(ytest,ypred)\n",
    "cm = confusion_matrix(ytest,ypred)\n",
    "print(f'Accuracy Score {ac}')\n",
    "print(f'Confusion Matrix is {cm}')"
   ]
  },
  {
   "cell_type": "code",
   "execution_count": 235,
   "id": "666736e9",
   "metadata": {},
   "outputs": [
    {
     "name": "stdout",
     "output_type": "stream",
     "text": [
      "Training Score is 0.9798231268424287\n",
      "Test Score is 0.9804343334913169\n"
     ]
    }
   ],
   "source": [
    "train_score = logreg.score(xtrain,ytrain)\n",
    "test_score = logreg.score(xtest,ytest)\n",
    "print(f'Training Score is {train_score}')\n",
    "print(f'Test Score is {test_score}')"
   ]
  },
  {
   "cell_type": "code",
   "execution_count": 236,
   "id": "31a40486",
   "metadata": {},
   "outputs": [],
   "source": [
    "xtrain,xtest,ytrain,ytest = train_test_split(x,y,test_size=0.3,random_state=1,stratify=y)"
   ]
  },
  {
   "cell_type": "code",
   "execution_count": 237,
   "id": "6cabf4b1",
   "metadata": {},
   "outputs": [
    {
     "data": {
      "text/html": [
       "<style>#sk-container-id-4 {color: black;}#sk-container-id-4 pre{padding: 0;}#sk-container-id-4 div.sk-toggleable {background-color: white;}#sk-container-id-4 label.sk-toggleable__label {cursor: pointer;display: block;width: 100%;margin-bottom: 0;padding: 0.3em;box-sizing: border-box;text-align: center;}#sk-container-id-4 label.sk-toggleable__label-arrow:before {content: \"▸\";float: left;margin-right: 0.25em;color: #696969;}#sk-container-id-4 label.sk-toggleable__label-arrow:hover:before {color: black;}#sk-container-id-4 div.sk-estimator:hover label.sk-toggleable__label-arrow:before {color: black;}#sk-container-id-4 div.sk-toggleable__content {max-height: 0;max-width: 0;overflow: hidden;text-align: left;background-color: #f0f8ff;}#sk-container-id-4 div.sk-toggleable__content pre {margin: 0.2em;color: black;border-radius: 0.25em;background-color: #f0f8ff;}#sk-container-id-4 input.sk-toggleable__control:checked~div.sk-toggleable__content {max-height: 200px;max-width: 100%;overflow: auto;}#sk-container-id-4 input.sk-toggleable__control:checked~label.sk-toggleable__label-arrow:before {content: \"▾\";}#sk-container-id-4 div.sk-estimator input.sk-toggleable__control:checked~label.sk-toggleable__label {background-color: #d4ebff;}#sk-container-id-4 div.sk-label input.sk-toggleable__control:checked~label.sk-toggleable__label {background-color: #d4ebff;}#sk-container-id-4 input.sk-hidden--visually {border: 0;clip: rect(1px 1px 1px 1px);clip: rect(1px, 1px, 1px, 1px);height: 1px;margin: -1px;overflow: hidden;padding: 0;position: absolute;width: 1px;}#sk-container-id-4 div.sk-estimator {font-family: monospace;background-color: #f0f8ff;border: 1px dotted black;border-radius: 0.25em;box-sizing: border-box;margin-bottom: 0.5em;}#sk-container-id-4 div.sk-estimator:hover {background-color: #d4ebff;}#sk-container-id-4 div.sk-parallel-item::after {content: \"\";width: 100%;border-bottom: 1px solid gray;flex-grow: 1;}#sk-container-id-4 div.sk-label:hover label.sk-toggleable__label {background-color: #d4ebff;}#sk-container-id-4 div.sk-serial::before {content: \"\";position: absolute;border-left: 1px solid gray;box-sizing: border-box;top: 0;bottom: 0;left: 50%;z-index: 0;}#sk-container-id-4 div.sk-serial {display: flex;flex-direction: column;align-items: center;background-color: white;padding-right: 0.2em;padding-left: 0.2em;position: relative;}#sk-container-id-4 div.sk-item {position: relative;z-index: 1;}#sk-container-id-4 div.sk-parallel {display: flex;align-items: stretch;justify-content: center;background-color: white;position: relative;}#sk-container-id-4 div.sk-item::before, #sk-container-id-4 div.sk-parallel-item::before {content: \"\";position: absolute;border-left: 1px solid gray;box-sizing: border-box;top: 0;bottom: 0;left: 50%;z-index: -1;}#sk-container-id-4 div.sk-parallel-item {display: flex;flex-direction: column;z-index: 1;position: relative;background-color: white;}#sk-container-id-4 div.sk-parallel-item:first-child::after {align-self: flex-end;width: 50%;}#sk-container-id-4 div.sk-parallel-item:last-child::after {align-self: flex-start;width: 50%;}#sk-container-id-4 div.sk-parallel-item:only-child::after {width: 0;}#sk-container-id-4 div.sk-dashed-wrapped {border: 1px dashed gray;margin: 0 0.4em 0.5em 0.4em;box-sizing: border-box;padding-bottom: 0.4em;background-color: white;}#sk-container-id-4 div.sk-label label {font-family: monospace;font-weight: bold;display: inline-block;line-height: 1.2em;}#sk-container-id-4 div.sk-label-container {text-align: center;}#sk-container-id-4 div.sk-container {/* jupyter's `normalize.less` sets `[hidden] { display: none; }` but bootstrap.min.css set `[hidden] { display: none !important; }` so we also need the `!important` here to be able to override the default hidden behavior on the sphinx rendered scikit-learn.org. See: https://github.com/scikit-learn/scikit-learn/issues/21755 */display: inline-block !important;position: relative;}#sk-container-id-4 div.sk-text-repr-fallback {display: none;}</style><div id=\"sk-container-id-4\" class=\"sk-top-container\"><div class=\"sk-text-repr-fallback\"><pre>LogisticRegression()</pre><b>In a Jupyter environment, please rerun this cell to show the HTML representation or trust the notebook. <br />On GitHub, the HTML representation is unable to render, please try loading this page with nbviewer.org.</b></div><div class=\"sk-container\" hidden><div class=\"sk-item\"><div class=\"sk-estimator sk-toggleable\"><input class=\"sk-toggleable__control sk-hidden--visually\" id=\"sk-estimator-id-4\" type=\"checkbox\" checked><label for=\"sk-estimator-id-4\" class=\"sk-toggleable__label sk-toggleable__label-arrow\">LogisticRegression</label><div class=\"sk-toggleable__content\"><pre>LogisticRegression()</pre></div></div></div></div></div>"
      ],
      "text/plain": [
       "LogisticRegression()"
      ]
     },
     "execution_count": 237,
     "metadata": {},
     "output_type": "execute_result"
    }
   ],
   "source": [
    "logreg.fit(xtrain,ytrain)"
   ]
  },
  {
   "cell_type": "code",
   "execution_count": 238,
   "id": "17aec755",
   "metadata": {},
   "outputs": [],
   "source": [
    "ypred = logreg.predict(xtest)"
   ]
  },
  {
   "cell_type": "code",
   "execution_count": 239,
   "id": "14ffbd94",
   "metadata": {},
   "outputs": [
    {
     "name": "stdout",
     "output_type": "stream",
     "text": [
      "Accuracy Score 0.9797416359813822\n",
      "Confusion Matrix is [[57760   209]\n",
      " [ 1458 22860]]\n",
      "Training Score is 0.9797085447026593\n",
      "Test Score is 0.9797416359813822\n"
     ]
    }
   ],
   "source": [
    "ac = accuracy_score(ytest,ypred)\n",
    "cm = confusion_matrix(ytest,ypred)\n",
    "print(f'Accuracy Score {ac}')\n",
    "print(f'Confusion Matrix is {cm}')\n",
    "train_score = logreg.score(xtrain,ytrain)\n",
    "test_score = logreg.score(xtest,ytest)\n",
    "print(f'Training Score is {train_score}')\n",
    "print(f'Test Score is {test_score}')"
   ]
  },
  {
   "cell_type": "markdown",
   "id": "7a268413",
   "metadata": {},
   "source": [
    "**Classification Report**"
   ]
  },
  {
   "cell_type": "code",
   "execution_count": 240,
   "id": "cc60f369",
   "metadata": {},
   "outputs": [
    {
     "name": "stdout",
     "output_type": "stream",
     "text": [
      "              precision    recall  f1-score   support\n",
      "\n",
      "         New       0.98      1.00      0.99     57969\n",
      "        Used       0.99      0.94      0.96     24318\n",
      "\n",
      "    accuracy                           0.98     82287\n",
      "   macro avg       0.98      0.97      0.98     82287\n",
      "weighted avg       0.98      0.98      0.98     82287\n",
      "\n"
     ]
    }
   ],
   "source": [
    "cr=classification_report(ytest,ypred)\n",
    "print(cr)"
   ]
  },
  {
   "cell_type": "code",
   "execution_count": null,
   "id": "d7942ecf",
   "metadata": {},
   "outputs": [],
   "source": []
  },
  {
   "cell_type": "code",
   "execution_count": null,
   "id": "6fed6c1d",
   "metadata": {},
   "outputs": [],
   "source": []
  },
  {
   "cell_type": "code",
   "execution_count": null,
   "id": "38681afe",
   "metadata": {},
   "outputs": [],
   "source": []
  },
  {
   "cell_type": "code",
   "execution_count": null,
   "id": "a7882702",
   "metadata": {},
   "outputs": [],
   "source": []
  },
  {
   "cell_type": "code",
   "execution_count": null,
   "id": "46e08ae3",
   "metadata": {},
   "outputs": [],
   "source": []
  },
  {
   "cell_type": "code",
   "execution_count": null,
   "id": "4d10d735",
   "metadata": {},
   "outputs": [],
   "source": []
  }
 ],
 "metadata": {
  "kernelspec": {
   "display_name": "Python 3 (ipykernel)",
   "language": "python",
   "name": "python3"
  },
  "language_info": {
   "codemirror_mode": {
    "name": "ipython",
    "version": 3
   },
   "file_extension": ".py",
   "mimetype": "text/x-python",
   "name": "python",
   "nbconvert_exporter": "python",
   "pygments_lexer": "ipython3",
   "version": "3.11.5"
  }
 },
 "nbformat": 4,
 "nbformat_minor": 5
}
